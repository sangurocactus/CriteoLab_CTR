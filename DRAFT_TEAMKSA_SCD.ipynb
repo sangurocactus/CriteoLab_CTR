{
 "cells": [
  {
   "cell_type": "markdown",
   "metadata": {},
   "source": [
    "# w261 Final Project - Clickthrough Rate Prediction\n"
   ]
  },
  {
   "cell_type": "markdown",
   "metadata": {},
   "source": [
    "[Your team number (from the spreadsheet)]   \n",
    "[Your team names]   \n",
    "Summer 2019, section [Your section numbers>]   "
   ]
  },
  {
   "cell_type": "markdown",
   "metadata": {},
   "source": [
    "## Table of Contents\n",
    "\n",
    "* __Section 1__ - Question Formulation\n",
    "* __Section 2__ - Algorithm Explanation\n",
    "* __Section 3__ - EDA & Challenges\n",
    "* __Section 4__ - Algorithm Implementation\n",
    "* __Section 5__ - Course Concepts"
   ]
  },
  {
   "cell_type": "markdown",
   "metadata": {},
   "source": [
    "# __Section 1__ - Question Formulation"
   ]
  },
  {
   "cell_type": "markdown",
   "metadata": {},
   "source": []
  },
  {
   "cell_type": "markdown",
   "metadata": {},
   "source": []
  },
  {
   "cell_type": "markdown",
   "metadata": {},
   "source": [
    "# __Section 2__ - Algorithm Explanation"
   ]
  },
  {
   "cell_type": "markdown",
   "metadata": {},
   "source": []
  },
  {
   "cell_type": "markdown",
   "metadata": {},
   "source": []
  },
  {
   "cell_type": "markdown",
   "metadata": {},
   "source": [
    "# __Section 3__ - EDA & Challenges"
   ]
  },
  {
   "cell_type": "markdown",
   "metadata": {},
   "source": []
  },
  {
   "cell_type": "markdown",
   "metadata": {},
   "source": []
  },
  {
   "cell_type": "markdown",
   "metadata": {},
   "source": [
    "# __Section 4__ - Algorithm Implementation"
   ]
  },
  {
   "cell_type": "markdown",
   "metadata": {},
   "source": []
  },
  {
   "cell_type": "markdown",
   "metadata": {},
   "source": []
  },
  {
   "cell_type": "markdown",
   "metadata": {},
   "source": [
    "# __Section 5__ - Course Concepts"
   ]
  },
  {
   "cell_type": "markdown",
   "metadata": {},
   "source": []
  },
  {
   "cell_type": "markdown",
   "metadata": {},
   "source": []
  },
  {
   "cell_type": "code",
   "execution_count": 1,
   "metadata": {},
   "outputs": [],
   "source": [
    "# imports\n",
    "import re\n",
    "import ast\n",
    "import time\n",
    "import numpy as np\n",
    "import pandas as pd\n",
    "import seaborn as sns\n",
    "import networkx as nx\n",
    "import matplotlib.pyplot as plt"
   ]
  },
  {
   "cell_type": "code",
   "execution_count": 2,
   "metadata": {},
   "outputs": [],
   "source": [
    "%reload_ext autoreload\n",
    "%autoreload 2"
   ]
  },
  {
   "cell_type": "code",
   "execution_count": 3,
   "metadata": {},
   "outputs": [],
   "source": [
    "# start Spark Session\n",
    "from pyspark.sql import SparkSession\n",
    "app_name = \"Final Project W261\"\n",
    "master = \"local[*]\"\n",
    "spark = SparkSession\\\n",
    "        .builder\\\n",
    "        .appName(app_name)\\\n",
    "        .master(master)\\\n",
    "        .getOrCreate()\n",
    "sc = spark.sparkContext"
   ]
  },
  {
   "cell_type": "code",
   "execution_count": 4,
   "metadata": {},
   "outputs": [
    {
     "data": {
      "text/html": [
       "\n",
       "            <div>\n",
       "                <p><b>SparkSession - in-memory</b></p>\n",
       "                \n",
       "        <div>\n",
       "            <p><b>SparkContext</b></p>\n",
       "\n",
       "            <p><a href=\"http://docker.w261:4040\">Spark UI</a></p>\n",
       "\n",
       "            <dl>\n",
       "              <dt>Version</dt>\n",
       "                <dd><code>v2.3.1</code></dd>\n",
       "              <dt>Master</dt>\n",
       "                <dd><code>local[*]</code></dd>\n",
       "              <dt>AppName</dt>\n",
       "                <dd><code>Final Project W261</code></dd>\n",
       "            </dl>\n",
       "        </div>\n",
       "        \n",
       "            </div>\n",
       "        "
      ],
      "text/plain": [
       "<pyspark.sql.session.SparkSession at 0x7feee62e6710>"
      ]
     },
     "execution_count": 4,
     "metadata": {},
     "output_type": "execute_result"
    }
   ],
   "source": [
    "spark"
   ]
  },
  {
   "cell_type": "code",
   "execution_count": 5,
   "metadata": {},
   "outputs": [],
   "source": [
    "sc = spark.sparkContext"
   ]
  },
  {
   "cell_type": "code",
   "execution_count": 8,
   "metadata": {},
   "outputs": [],
   "source": [
    "dftoy_tiny = spark.read.load(\"toy_train.parquet\")"
   ]
  },
  {
   "cell_type": "code",
   "execution_count": 9,
   "metadata": {},
   "outputs": [
    {
     "name": "stdout",
     "output_type": "stream",
     "text": [
      "root\n",
      " |-- Label: string (nullable = true)\n",
      " |-- I-1: string (nullable = true)\n",
      " |-- I-2: string (nullable = true)\n",
      " |-- I-3: string (nullable = true)\n",
      " |-- I-4: string (nullable = true)\n",
      " |-- I-5: string (nullable = true)\n",
      " |-- I-6: string (nullable = true)\n",
      " |-- I-7: string (nullable = true)\n",
      " |-- I-8: string (nullable = true)\n",
      " |-- I-9: string (nullable = true)\n",
      " |-- I-10: string (nullable = true)\n",
      " |-- I-11: string (nullable = true)\n",
      " |-- I-12: string (nullable = true)\n",
      " |-- I-13: string (nullable = true)\n",
      " |-- C-1: string (nullable = true)\n",
      " |-- C-2: string (nullable = true)\n",
      " |-- C-3: string (nullable = true)\n",
      " |-- C-4: string (nullable = true)\n",
      " |-- C-5: string (nullable = true)\n",
      " |-- C-6: string (nullable = true)\n",
      " |-- C-7: string (nullable = true)\n",
      " |-- C-8: string (nullable = true)\n",
      " |-- C-9: string (nullable = true)\n",
      " |-- C-10: string (nullable = true)\n",
      " |-- C-11: string (nullable = true)\n",
      " |-- C-12: string (nullable = true)\n",
      " |-- C-13: string (nullable = true)\n",
      " |-- C-14: string (nullable = true)\n",
      " |-- C-15: string (nullable = true)\n",
      " |-- C-16: string (nullable = true)\n",
      " |-- C-17: string (nullable = true)\n",
      " |-- C-18: string (nullable = true)\n",
      " |-- C-19: string (nullable = true)\n",
      " |-- C-20: string (nullable = true)\n",
      " |-- C-21: string (nullable = true)\n",
      " |-- C-22: string (nullable = true)\n",
      " |-- C-23: string (nullable = true)\n",
      " |-- C-24: string (nullable = true)\n",
      " |-- C-25: string (nullable = true)\n",
      " |-- C-26: string (nullable = true)\n",
      "\n",
      "+-----+---+---+---+---+----+---+---+---+---+----+----+----+----+----------+----------+----------+----------+---------+----------+----------+---------+----------+----------+----------+----------+----------+----------+----------+----------+----------+----------+---------+----------+----------+----------+---------+----------+----------+----------+\n",
      "|Label|I-1|I-2|I-3|I-4| I-5|I-6|I-7|I-8|I-9|I-10|I-11|I-12|I-13|       C-1|       C-2|       C-3|       C-4|      C-5|       C-6|       C-7|      C-8|       C-9|      C-10|      C-11|      C-12|      C-13|      C-14|      C-15|      C-16|      C-17|      C-18|     C-19|      C-20|      C-21|      C-22|     C-23|      C-24|      C-25|      C-26|\n",
      "+-----+---+---+---+---+----+---+---+---+---+----+----+----+----+----------+----------+----------+----------+---------+----------+----------+---------+----------+----------+----------+----------+----------+----------+----------+----------+----------+----------+---------+----------+----------+----------+---------+----------+----------+----------+\n",
      "|    0|  1|  1|  5|  0|1382|  4| 15|  2|181|   1|   2|   0|   2|1761418852|2162322587|4220739894|2068259780|633879704|2114768079|3732510136|529118562|2805916944|2832028932|2999688344| 935969124| 673490422| 450684655|2343089050|2300273383|3854202482|4114618041|568184265|2972002973| 129309004|         0|974593739|3318023300|3904386055|2535972118|\n",
      "|    0|  2|  0| 44|  1| 102|  8|  2|  2|  4|   1|   1|   0|   4|1761418852|4040097828|1869084645|1093094615|633879704|4268462821|2452290752|185940084|2805916944| 726918651|1327187699|1647331814|3607233929|2995026422|3871716813|3375315809| 130367684|2957919856|568184265|1480633834|1626743326|         0|974593739|1139883659|3904386055|1931228757|\n",
      "|    0|  2|  0|  1| 14| 767| 89|  4|  2|245|   1|   3|   3|  45| 679372879| 173120604|  47159414|3247169921|633879704|2114768079|3347186849|185940084|2805916944| 990438539|1600020625|2413822452|2858768943| 131152527|1841762541| 907031640|2399067775| 873599373|        0|         0|3850880102|2905629419|974593739| 991444060|         0|         0|\n",
      "+-----+---+---+---+---+----+---+---+---+---+----+----+----+----+----------+----------+----------+----------+---------+----------+----------+---------+----------+----------+----------+----------+----------+----------+----------+----------+----------+----------+---------+----------+----------+----------+---------+----------+----------+----------+\n",
      "only showing top 3 rows\n",
      "\n",
      "root\n",
      " |-- Label: integer (nullable = true)\n",
      " |-- I-1: integer (nullable = true)\n",
      " |-- I-2: integer (nullable = true)\n",
      " |-- I-3: integer (nullable = true)\n",
      " |-- I-4: integer (nullable = true)\n",
      " |-- I-5: integer (nullable = true)\n",
      " |-- I-6: integer (nullable = true)\n",
      " |-- I-7: integer (nullable = true)\n",
      " |-- I-8: integer (nullable = true)\n",
      " |-- I-9: integer (nullable = true)\n",
      " |-- I-10: integer (nullable = true)\n",
      " |-- I-11: integer (nullable = true)\n",
      " |-- I-12: integer (nullable = true)\n",
      " |-- I-13: integer (nullable = true)\n",
      " |-- C-1: long (nullable = true)\n",
      " |-- C-2: long (nullable = true)\n",
      " |-- C-3: long (nullable = true)\n",
      " |-- C-4: long (nullable = true)\n",
      " |-- C-5: long (nullable = true)\n",
      " |-- C-6: long (nullable = true)\n",
      " |-- C-7: long (nullable = true)\n",
      " |-- C-8: long (nullable = true)\n",
      " |-- C-9: long (nullable = true)\n",
      " |-- C-10: long (nullable = true)\n",
      " |-- C-11: long (nullable = true)\n",
      " |-- C-12: long (nullable = true)\n",
      " |-- C-13: long (nullable = true)\n",
      " |-- C-14: long (nullable = true)\n",
      " |-- C-15: long (nullable = true)\n",
      " |-- C-16: long (nullable = true)\n",
      " |-- C-17: long (nullable = true)\n",
      " |-- C-18: long (nullable = true)\n",
      " |-- C-19: long (nullable = true)\n",
      " |-- C-20: long (nullable = true)\n",
      " |-- C-21: long (nullable = true)\n",
      " |-- C-22: long (nullable = true)\n",
      " |-- C-23: long (nullable = true)\n",
      " |-- C-24: long (nullable = true)\n",
      " |-- C-25: long (nullable = true)\n",
      " |-- C-26: long (nullable = true)\n",
      "\n",
      "+-----+---+---+---+---+----+---+---+---+---+----+----+----+----+----------+----------+----------+----------+---------+----------+----------+---------+----------+----------+----------+----------+----------+----------+----------+----------+----------+----------+---------+----------+----------+----------+---------+----------+----------+----------+\n",
      "|Label|I-1|I-2|I-3|I-4| I-5|I-6|I-7|I-8|I-9|I-10|I-11|I-12|I-13|       C-1|       C-2|       C-3|       C-4|      C-5|       C-6|       C-7|      C-8|       C-9|      C-10|      C-11|      C-12|      C-13|      C-14|      C-15|      C-16|      C-17|      C-18|     C-19|      C-20|      C-21|      C-22|     C-23|      C-24|      C-25|      C-26|\n",
      "+-----+---+---+---+---+----+---+---+---+---+----+----+----+----+----------+----------+----------+----------+---------+----------+----------+---------+----------+----------+----------+----------+----------+----------+----------+----------+----------+----------+---------+----------+----------+----------+---------+----------+----------+----------+\n",
      "|    0|  1|  1|  5|  0|1382|  4| 15|  2|181|   1|   2|   0|   2|1761418852|2162322587|4220739894|2068259780|633879704|2114768079|3732510136|529118562|2805916944|2832028932|2999688344| 935969124| 673490422| 450684655|2343089050|2300273383|3854202482|4114618041|568184265|2972002973| 129309004|         0|974593739|3318023300|3904386055|2535972118|\n",
      "|    0|  2|  0| 44|  1| 102|  8|  2|  2|  4|   1|   1|   0|   4|1761418852|4040097828|1869084645|1093094615|633879704|4268462821|2452290752|185940084|2805916944| 726918651|1327187699|1647331814|3607233929|2995026422|3871716813|3375315809| 130367684|2957919856|568184265|1480633834|1626743326|         0|974593739|1139883659|3904386055|1931228757|\n",
      "|    0|  2|  0|  1| 14| 767| 89|  4|  2|245|   1|   3|   3|  45| 679372879| 173120604|  47159414|3247169921|633879704|2114768079|3347186849|185940084|2805916944| 990438539|1600020625|2413822452|2858768943| 131152527|1841762541| 907031640|2399067775| 873599373|        0|         0|3850880102|2905629419|974593739| 991444060|         0|         0|\n",
      "+-----+---+---+---+---+----+---+---+---+---+----+----+----+----+----------+----------+----------+----------+---------+----------+----------+---------+----------+----------+----------+----------+----------+----------+----------+----------+----------+----------+---------+----------+----------+----------+---------+----------+----------+----------+\n",
      "only showing top 3 rows\n",
      "\n"
     ]
    }
   ],
   "source": [
    "#create spark dataframe for train - Set toyDF to read train_80 or use dftoy sample\n",
    "#toyDF = spark.read.load(\"train_80.parquet\")\n",
    "toyDF = dftoy_tiny\n",
    "\n",
    "#print Schema\n",
    "toyDF.printSchema()\n",
    "\n",
    "#convert all Label, Integer columns to Ints\n",
    "from pyspark.sql.types import IntegerType\n",
    "toyDF = toyDF.withColumn(\"Label\", toyDF[\"Label\"].cast(IntegerType()))\n",
    "toyDF = toyDF.withColumn(\"I-1\", toyDF[\"I-1\"].cast(IntegerType()))\n",
    "toyDF = toyDF.withColumn(\"I-2\", toyDF[\"I-2\"].cast(IntegerType()))\n",
    "toyDF = toyDF.withColumn(\"I-3\", toyDF[\"I-3\"].cast(IntegerType()))\n",
    "toyDF = toyDF.withColumn(\"I-4\", toyDF[\"I-4\"].cast(IntegerType()))\n",
    "toyDF = toyDF.withColumn(\"I-5\", toyDF[\"I-5\"].cast(IntegerType()))\n",
    "toyDF = toyDF.withColumn(\"I-6\", toyDF[\"I-6\"].cast(IntegerType()))\n",
    "toyDF = toyDF.withColumn(\"I-7\", toyDF[\"I-7\"].cast(IntegerType()))\n",
    "toyDF = toyDF.withColumn(\"I-8\", toyDF[\"I-8\"].cast(IntegerType()))\n",
    "toyDF = toyDF.withColumn(\"I-9\", toyDF[\"I-9\"].cast(IntegerType()))\n",
    "toyDF = toyDF.withColumn(\"I-10\", toyDF[\"I-10\"].cast(IntegerType()))\n",
    "toyDF = toyDF.withColumn(\"I-11\", toyDF[\"I-11\"].cast(IntegerType()))\n",
    "toyDF = toyDF.withColumn(\"I-12\", toyDF[\"I-12\"].cast(IntegerType()))\n",
    "toyDF = toyDF.withColumn(\"I-13\", toyDF[\"I-13\"].cast(IntegerType()))\n",
    "\n",
    "#fill all Integer columns `NA` to `0'\n",
    "toyDF = toyDF.fillna(0)\n",
    "\n",
    "# Replace all categorical string `empty` to `null`\n",
    "toyDF = toyDF.replace('', 'null')\n",
    "\n",
    "# convert all `hex` code to `int`\n",
    "from pyspark.sql.functions import conv\n",
    "toyDF = toyDF.withColumn('C-1', conv('C-1', 16, 10))\n",
    "toyDF = toyDF.withColumn('C-2', conv('C-2', 16, 10))\n",
    "toyDF = toyDF.withColumn('C-3', conv('C-3', 16, 10))\n",
    "toyDF = toyDF.withColumn('C-4', conv('C-4', 16, 10))\n",
    "toyDF = toyDF.withColumn('C-5', conv('C-5', 16, 10))\n",
    "toyDF = toyDF.withColumn('C-6', conv('C-6', 16, 10))\n",
    "toyDF = toyDF.withColumn('C-7', conv('C-7', 16, 10))\n",
    "toyDF = toyDF.withColumn('C-8', conv('C-8', 16, 10))\n",
    "toyDF = toyDF.withColumn('C-9', conv('C-9', 16, 10))\n",
    "toyDF = toyDF.withColumn('C-10', conv('C-10', 16, 10))\n",
    "toyDF = toyDF.withColumn('C-11', conv('C-11', 16, 10))\n",
    "toyDF = toyDF.withColumn('C-12', conv('C-12', 16, 10))\n",
    "toyDF = toyDF.withColumn('C-13', conv('C-13', 16, 10))\n",
    "toyDF = toyDF.withColumn('C-14', conv('C-14', 16, 10))\n",
    "toyDF = toyDF.withColumn('C-15', conv('C-15', 16, 10))\n",
    "toyDF = toyDF.withColumn('C-16', conv('C-16', 16, 10))\n",
    "toyDF = toyDF.withColumn('C-17', conv('C-17', 16, 10))\n",
    "toyDF = toyDF.withColumn('C-18', conv('C-18', 16, 10))\n",
    "toyDF = toyDF.withColumn('C-19', conv('C-19', 16, 10))\n",
    "toyDF = toyDF.withColumn('C-20', conv('C-20', 16, 10))\n",
    "toyDF = toyDF.withColumn('C-21', conv('C-21', 16, 10))\n",
    "toyDF = toyDF.withColumn('C-22', conv('C-22', 16, 10))\n",
    "toyDF = toyDF.withColumn('C-23', conv('C-23', 16, 10))\n",
    "toyDF = toyDF.withColumn('C-24', conv('C-24', 16, 10))\n",
    "toyDF = toyDF.withColumn('C-25', conv('C-25', 16, 10))\n",
    "toyDF = toyDF.withColumn('C-26', conv('C-26', 16, 10))\n",
    "\n",
    "#check if its good\n",
    "toyDF.show(3)\n",
    "\n",
    "# convert all categorial feature columns from string to long type\n",
    "from pyspark.sql.types import LongType\n",
    "toyDF = toyDF.withColumn(\"C-1\", toyDF[\"C-1\"].cast(LongType()))\n",
    "toyDF = toyDF.withColumn(\"C-2\", toyDF[\"C-2\"].cast(LongType()))\n",
    "toyDF = toyDF.withColumn(\"C-3\", toyDF[\"C-3\"].cast(LongType()))\n",
    "toyDF = toyDF.withColumn(\"C-4\", toyDF[\"C-4\"].cast(LongType()))\n",
    "toyDF = toyDF.withColumn(\"C-5\", toyDF[\"C-5\"].cast(LongType()))\n",
    "toyDF = toyDF.withColumn(\"C-6\", toyDF[\"C-6\"].cast(LongType()))\n",
    "toyDF = toyDF.withColumn(\"C-7\", toyDF[\"C-7\"].cast(LongType()))\n",
    "toyDF = toyDF.withColumn(\"C-8\", toyDF[\"C-8\"].cast(LongType()))\n",
    "toyDF = toyDF.withColumn(\"C-9\", toyDF[\"C-9\"].cast(LongType()))\n",
    "toyDF = toyDF.withColumn(\"C-10\", toyDF[\"C-10\"].cast(LongType()))\n",
    "toyDF = toyDF.withColumn(\"C-11\", toyDF[\"C-11\"].cast(LongType()))\n",
    "toyDF = toyDF.withColumn(\"C-12\", toyDF[\"C-12\"].cast(LongType()))\n",
    "toyDF = toyDF.withColumn(\"C-13\", toyDF[\"C-13\"].cast(LongType()))\n",
    "toyDF = toyDF.withColumn(\"C-14\", toyDF[\"C-14\"].cast(LongType()))\n",
    "toyDF = toyDF.withColumn(\"C-15\", toyDF[\"C-15\"].cast(LongType()))\n",
    "toyDF = toyDF.withColumn(\"C-16\", toyDF[\"C-16\"].cast(LongType()))\n",
    "toyDF = toyDF.withColumn(\"C-17\", toyDF[\"C-17\"].cast(LongType()))\n",
    "toyDF = toyDF.withColumn(\"C-18\", toyDF[\"C-18\"].cast(LongType()))\n",
    "toyDF = toyDF.withColumn(\"C-19\", toyDF[\"C-19\"].cast(LongType()))\n",
    "toyDF = toyDF.withColumn(\"C-20\", toyDF[\"C-20\"].cast(LongType()))\n",
    "toyDF = toyDF.withColumn(\"C-21\", toyDF[\"C-21\"].cast(LongType()))\n",
    "toyDF = toyDF.withColumn(\"C-22\", toyDF[\"C-22\"].cast(LongType()))\n",
    "toyDF = toyDF.withColumn(\"C-23\", toyDF[\"C-23\"].cast(LongType()))\n",
    "toyDF = toyDF.withColumn(\"C-24\", toyDF[\"C-24\"].cast(LongType()))\n",
    "toyDF = toyDF.withColumn(\"C-25\", toyDF[\"C-25\"].cast(LongType()))\n",
    "toyDF = toyDF.withColumn(\"C-26\", toyDF[\"C-26\"].cast(LongType()))\n",
    "\n",
    "# verify the schema\n",
    "toyDF.printSchema()\n",
    "\n",
    "# verify the data\n",
    "toyDF.show(3)\n",
    "\n",
    "trainDF = toyDF"
   ]
  },
  {
   "cell_type": "code",
   "execution_count": 10,
   "metadata": {},
   "outputs": [
    {
     "name": "stdout",
     "output_type": "stream",
     "text": [
      "root\n",
      " |-- Label: string (nullable = true)\n",
      " |-- I-1: string (nullable = true)\n",
      " |-- I-2: string (nullable = true)\n",
      " |-- I-3: string (nullable = true)\n",
      " |-- I-4: string (nullable = true)\n",
      " |-- I-5: string (nullable = true)\n",
      " |-- I-6: string (nullable = true)\n",
      " |-- I-7: string (nullable = true)\n",
      " |-- I-8: string (nullable = true)\n",
      " |-- I-9: string (nullable = true)\n",
      " |-- I-10: string (nullable = true)\n",
      " |-- I-11: string (nullable = true)\n",
      " |-- I-12: string (nullable = true)\n",
      " |-- I-13: string (nullable = true)\n",
      " |-- C-1: string (nullable = true)\n",
      " |-- C-2: string (nullable = true)\n",
      " |-- C-3: string (nullable = true)\n",
      " |-- C-4: string (nullable = true)\n",
      " |-- C-5: string (nullable = true)\n",
      " |-- C-6: string (nullable = true)\n",
      " |-- C-7: string (nullable = true)\n",
      " |-- C-8: string (nullable = true)\n",
      " |-- C-9: string (nullable = true)\n",
      " |-- C-10: string (nullable = true)\n",
      " |-- C-11: string (nullable = true)\n",
      " |-- C-12: string (nullable = true)\n",
      " |-- C-13: string (nullable = true)\n",
      " |-- C-14: string (nullable = true)\n",
      " |-- C-15: string (nullable = true)\n",
      " |-- C-16: string (nullable = true)\n",
      " |-- C-17: string (nullable = true)\n",
      " |-- C-18: string (nullable = true)\n",
      " |-- C-19: string (nullable = true)\n",
      " |-- C-20: string (nullable = true)\n",
      " |-- C-21: string (nullable = true)\n",
      " |-- C-22: string (nullable = true)\n",
      " |-- C-23: string (nullable = true)\n",
      " |-- C-24: string (nullable = true)\n",
      " |-- C-25: string (nullable = true)\n",
      " |-- C-26: string (nullable = true)\n",
      "\n",
      "+-----+---+---+---+---+----+---+---+---+---+----+----+----+----+----------+----------+----------+----------+---------+----------+----------+---------+----------+----------+----------+----------+----------+----------+----------+----------+----------+----------+---------+----------+----------+----------+---------+----------+----------+----------+\n",
      "|Label|I-1|I-2|I-3|I-4| I-5|I-6|I-7|I-8|I-9|I-10|I-11|I-12|I-13|       C-1|       C-2|       C-3|       C-4|      C-5|       C-6|       C-7|      C-8|       C-9|      C-10|      C-11|      C-12|      C-13|      C-14|      C-15|      C-16|      C-17|      C-18|     C-19|      C-20|      C-21|      C-22|     C-23|      C-24|      C-25|      C-26|\n",
      "+-----+---+---+---+---+----+---+---+---+---+----+----+----+----+----------+----------+----------+----------+---------+----------+----------+---------+----------+----------+----------+----------+----------+----------+----------+----------+----------+----------+---------+----------+----------+----------+---------+----------+----------+----------+\n",
      "|    0|  1|  1|  5|  0|1382|  4| 15|  2|181|   1|   2|   0|   2|1761418852|2162322587|4220739894|2068259780|633879704|2114768079|3732510136|529118562|2805916944|2832028932|2999688344| 935969124| 673490422| 450684655|2343089050|2300273383|3854202482|4114618041|568184265|2972002973| 129309004|         0|974593739|3318023300|3904386055|2535972118|\n",
      "|    0|  2|  0| 44|  1| 102|  8|  2|  2|  4|   1|   1|   0|   4|1761418852|4040097828|1869084645|1093094615|633879704|4268462821|2452290752|185940084|2805916944| 726918651|1327187699|1647331814|3607233929|2995026422|3871716813|3375315809| 130367684|2957919856|568184265|1480633834|1626743326|         0|974593739|1139883659|3904386055|1931228757|\n",
      "|    0|  2|  0|  1| 14| 767| 89|  4|  2|245|   1|   3|   3|  45| 679372879| 173120604|  47159414|3247169921|633879704|2114768079|3347186849|185940084|2805916944| 990438539|1600020625|2413822452|2858768943| 131152527|1841762541| 907031640|2399067775| 873599373|        0|         0|3850880102|2905629419|974593739| 991444060|         0|         0|\n",
      "+-----+---+---+---+---+----+---+---+---+---+----+----+----+----+----------+----------+----------+----------+---------+----------+----------+---------+----------+----------+----------+----------+----------+----------+----------+----------+----------+----------+---------+----------+----------+----------+---------+----------+----------+----------+\n",
      "only showing top 3 rows\n",
      "\n",
      "root\n",
      " |-- Label: integer (nullable = true)\n",
      " |-- I-1: integer (nullable = true)\n",
      " |-- I-2: integer (nullable = true)\n",
      " |-- I-3: integer (nullable = true)\n",
      " |-- I-4: integer (nullable = true)\n",
      " |-- I-5: integer (nullable = true)\n",
      " |-- I-6: integer (nullable = true)\n",
      " |-- I-7: integer (nullable = true)\n",
      " |-- I-8: integer (nullable = true)\n",
      " |-- I-9: integer (nullable = true)\n",
      " |-- I-10: integer (nullable = true)\n",
      " |-- I-11: integer (nullable = true)\n",
      " |-- I-12: integer (nullable = true)\n",
      " |-- I-13: integer (nullable = true)\n",
      " |-- C-1: long (nullable = true)\n",
      " |-- C-2: long (nullable = true)\n",
      " |-- C-3: long (nullable = true)\n",
      " |-- C-4: long (nullable = true)\n",
      " |-- C-5: long (nullable = true)\n",
      " |-- C-6: long (nullable = true)\n",
      " |-- C-7: long (nullable = true)\n",
      " |-- C-8: long (nullable = true)\n",
      " |-- C-9: long (nullable = true)\n",
      " |-- C-10: long (nullable = true)\n",
      " |-- C-11: long (nullable = true)\n",
      " |-- C-12: long (nullable = true)\n",
      " |-- C-13: long (nullable = true)\n",
      " |-- C-14: long (nullable = true)\n",
      " |-- C-15: long (nullable = true)\n",
      " |-- C-16: long (nullable = true)\n",
      " |-- C-17: long (nullable = true)\n",
      " |-- C-18: long (nullable = true)\n",
      " |-- C-19: long (nullable = true)\n",
      " |-- C-20: long (nullable = true)\n",
      " |-- C-21: long (nullable = true)\n",
      " |-- C-22: long (nullable = true)\n",
      " |-- C-23: long (nullable = true)\n",
      " |-- C-24: long (nullable = true)\n",
      " |-- C-25: long (nullable = true)\n",
      " |-- C-26: long (nullable = true)\n",
      "\n",
      "+-----+---+---+---+---+----+---+---+---+---+----+----+----+----+----------+----------+----------+----------+---------+----------+----------+---------+----------+----------+----------+----------+----------+----------+----------+----------+----------+----------+---------+----------+----------+----------+---------+----------+----------+----------+\n",
      "|Label|I-1|I-2|I-3|I-4| I-5|I-6|I-7|I-8|I-9|I-10|I-11|I-12|I-13|       C-1|       C-2|       C-3|       C-4|      C-5|       C-6|       C-7|      C-8|       C-9|      C-10|      C-11|      C-12|      C-13|      C-14|      C-15|      C-16|      C-17|      C-18|     C-19|      C-20|      C-21|      C-22|     C-23|      C-24|      C-25|      C-26|\n",
      "+-----+---+---+---+---+----+---+---+---+---+----+----+----+----+----------+----------+----------+----------+---------+----------+----------+---------+----------+----------+----------+----------+----------+----------+----------+----------+----------+----------+---------+----------+----------+----------+---------+----------+----------+----------+\n",
      "|    0|  1|  1|  5|  0|1382|  4| 15|  2|181|   1|   2|   0|   2|1761418852|2162322587|4220739894|2068259780|633879704|2114768079|3732510136|529118562|2805916944|2832028932|2999688344| 935969124| 673490422| 450684655|2343089050|2300273383|3854202482|4114618041|568184265|2972002973| 129309004|         0|974593739|3318023300|3904386055|2535972118|\n",
      "|    0|  2|  0| 44|  1| 102|  8|  2|  2|  4|   1|   1|   0|   4|1761418852|4040097828|1869084645|1093094615|633879704|4268462821|2452290752|185940084|2805916944| 726918651|1327187699|1647331814|3607233929|2995026422|3871716813|3375315809| 130367684|2957919856|568184265|1480633834|1626743326|         0|974593739|1139883659|3904386055|1931228757|\n",
      "|    0|  2|  0|  1| 14| 767| 89|  4|  2|245|   1|   3|   3|  45| 679372879| 173120604|  47159414|3247169921|633879704|2114768079|3347186849|185940084|2805916944| 990438539|1600020625|2413822452|2858768943| 131152527|1841762541| 907031640|2399067775| 873599373|        0|         0|3850880102|2905629419|974593739| 991444060|         0|         0|\n",
      "+-----+---+---+---+---+----+---+---+---+---+----+----+----+----+----------+----------+----------+----------+---------+----------+----------+---------+----------+----------+----------+----------+----------+----------+----------+----------+----------+----------+---------+----------+----------+----------+---------+----------+----------+----------+\n",
      "only showing top 3 rows\n",
      "\n"
     ]
    }
   ],
   "source": [
    "#create spark dataframe for validation - Set toyDF to read validation_20 or use dftoy sample\n",
    "#toyDF = spark.read.load(\"validation_20.parquet\")\n",
    "toyDF = dftoy_tiny\n",
    "\n",
    "#print Schema\n",
    "toyDF.printSchema()\n",
    "\n",
    "#convert all Label, Integer columns to Ints\n",
    "from pyspark.sql.types import IntegerType\n",
    "toyDF = toyDF.withColumn(\"Label\", toyDF[\"Label\"].cast(IntegerType()))\n",
    "toyDF = toyDF.withColumn(\"I-1\", toyDF[\"I-1\"].cast(IntegerType()))\n",
    "toyDF = toyDF.withColumn(\"I-2\", toyDF[\"I-2\"].cast(IntegerType()))\n",
    "toyDF = toyDF.withColumn(\"I-3\", toyDF[\"I-3\"].cast(IntegerType()))\n",
    "toyDF = toyDF.withColumn(\"I-4\", toyDF[\"I-4\"].cast(IntegerType()))\n",
    "toyDF = toyDF.withColumn(\"I-5\", toyDF[\"I-5\"].cast(IntegerType()))\n",
    "toyDF = toyDF.withColumn(\"I-6\", toyDF[\"I-6\"].cast(IntegerType()))\n",
    "toyDF = toyDF.withColumn(\"I-7\", toyDF[\"I-7\"].cast(IntegerType()))\n",
    "toyDF = toyDF.withColumn(\"I-8\", toyDF[\"I-8\"].cast(IntegerType()))\n",
    "toyDF = toyDF.withColumn(\"I-9\", toyDF[\"I-9\"].cast(IntegerType()))\n",
    "toyDF = toyDF.withColumn(\"I-10\", toyDF[\"I-10\"].cast(IntegerType()))\n",
    "toyDF = toyDF.withColumn(\"I-11\", toyDF[\"I-11\"].cast(IntegerType()))\n",
    "toyDF = toyDF.withColumn(\"I-12\", toyDF[\"I-12\"].cast(IntegerType()))\n",
    "toyDF = toyDF.withColumn(\"I-13\", toyDF[\"I-13\"].cast(IntegerType()))\n",
    "\n",
    "#fill all Integer columns `NA` to `0'\n",
    "toyDF = toyDF.fillna(0)\n",
    "\n",
    "# Replace all categorical string `empty` to `null`\n",
    "toyDF = toyDF.replace('', 'null')\n",
    "\n",
    "# convert all `hex` code to `int`\n",
    "from pyspark.sql.functions import conv\n",
    "toyDF = toyDF.withColumn('C-1', conv('C-1', 16, 10))\n",
    "toyDF = toyDF.withColumn('C-2', conv('C-2', 16, 10))\n",
    "toyDF = toyDF.withColumn('C-3', conv('C-3', 16, 10))\n",
    "toyDF = toyDF.withColumn('C-4', conv('C-4', 16, 10))\n",
    "toyDF = toyDF.withColumn('C-5', conv('C-5', 16, 10))\n",
    "toyDF = toyDF.withColumn('C-6', conv('C-6', 16, 10))\n",
    "toyDF = toyDF.withColumn('C-7', conv('C-7', 16, 10))\n",
    "toyDF = toyDF.withColumn('C-8', conv('C-8', 16, 10))\n",
    "toyDF = toyDF.withColumn('C-9', conv('C-9', 16, 10))\n",
    "toyDF = toyDF.withColumn('C-10', conv('C-10', 16, 10))\n",
    "toyDF = toyDF.withColumn('C-11', conv('C-11', 16, 10))\n",
    "toyDF = toyDF.withColumn('C-12', conv('C-12', 16, 10))\n",
    "toyDF = toyDF.withColumn('C-13', conv('C-13', 16, 10))\n",
    "toyDF = toyDF.withColumn('C-14', conv('C-14', 16, 10))\n",
    "toyDF = toyDF.withColumn('C-15', conv('C-15', 16, 10))\n",
    "toyDF = toyDF.withColumn('C-16', conv('C-16', 16, 10))\n",
    "toyDF = toyDF.withColumn('C-17', conv('C-17', 16, 10))\n",
    "toyDF = toyDF.withColumn('C-18', conv('C-18', 16, 10))\n",
    "toyDF = toyDF.withColumn('C-19', conv('C-19', 16, 10))\n",
    "toyDF = toyDF.withColumn('C-20', conv('C-20', 16, 10))\n",
    "toyDF = toyDF.withColumn('C-21', conv('C-21', 16, 10))\n",
    "toyDF = toyDF.withColumn('C-22', conv('C-22', 16, 10))\n",
    "toyDF = toyDF.withColumn('C-23', conv('C-23', 16, 10))\n",
    "toyDF = toyDF.withColumn('C-24', conv('C-24', 16, 10))\n",
    "toyDF = toyDF.withColumn('C-25', conv('C-25', 16, 10))\n",
    "toyDF = toyDF.withColumn('C-26', conv('C-26', 16, 10))\n",
    "\n",
    "#check if its good\n",
    "toyDF.show(3)\n",
    "\n",
    "# convert all categorial feature columns from string to long type\n",
    "from pyspark.sql.types import LongType\n",
    "toyDF = toyDF.withColumn(\"C-1\", toyDF[\"C-1\"].cast(LongType()))\n",
    "toyDF = toyDF.withColumn(\"C-2\", toyDF[\"C-2\"].cast(LongType()))\n",
    "toyDF = toyDF.withColumn(\"C-3\", toyDF[\"C-3\"].cast(LongType()))\n",
    "toyDF = toyDF.withColumn(\"C-4\", toyDF[\"C-4\"].cast(LongType()))\n",
    "toyDF = toyDF.withColumn(\"C-5\", toyDF[\"C-5\"].cast(LongType()))\n",
    "toyDF = toyDF.withColumn(\"C-6\", toyDF[\"C-6\"].cast(LongType()))\n",
    "toyDF = toyDF.withColumn(\"C-7\", toyDF[\"C-7\"].cast(LongType()))\n",
    "toyDF = toyDF.withColumn(\"C-8\", toyDF[\"C-8\"].cast(LongType()))\n",
    "toyDF = toyDF.withColumn(\"C-9\", toyDF[\"C-9\"].cast(LongType()))\n",
    "toyDF = toyDF.withColumn(\"C-10\", toyDF[\"C-10\"].cast(LongType()))\n",
    "toyDF = toyDF.withColumn(\"C-11\", toyDF[\"C-11\"].cast(LongType()))\n",
    "toyDF = toyDF.withColumn(\"C-12\", toyDF[\"C-12\"].cast(LongType()))\n",
    "toyDF = toyDF.withColumn(\"C-13\", toyDF[\"C-13\"].cast(LongType()))\n",
    "toyDF = toyDF.withColumn(\"C-14\", toyDF[\"C-14\"].cast(LongType()))\n",
    "toyDF = toyDF.withColumn(\"C-15\", toyDF[\"C-15\"].cast(LongType()))\n",
    "toyDF = toyDF.withColumn(\"C-16\", toyDF[\"C-16\"].cast(LongType()))\n",
    "toyDF = toyDF.withColumn(\"C-17\", toyDF[\"C-17\"].cast(LongType()))\n",
    "toyDF = toyDF.withColumn(\"C-18\", toyDF[\"C-18\"].cast(LongType()))\n",
    "toyDF = toyDF.withColumn(\"C-19\", toyDF[\"C-19\"].cast(LongType()))\n",
    "toyDF = toyDF.withColumn(\"C-20\", toyDF[\"C-20\"].cast(LongType()))\n",
    "toyDF = toyDF.withColumn(\"C-21\", toyDF[\"C-21\"].cast(LongType()))\n",
    "toyDF = toyDF.withColumn(\"C-22\", toyDF[\"C-22\"].cast(LongType()))\n",
    "toyDF = toyDF.withColumn(\"C-23\", toyDF[\"C-23\"].cast(LongType()))\n",
    "toyDF = toyDF.withColumn(\"C-24\", toyDF[\"C-24\"].cast(LongType()))\n",
    "toyDF = toyDF.withColumn(\"C-25\", toyDF[\"C-25\"].cast(LongType()))\n",
    "toyDF = toyDF.withColumn(\"C-26\", toyDF[\"C-26\"].cast(LongType()))\n",
    "\n",
    "# verify the schema\n",
    "toyDF.printSchema()\n",
    "\n",
    "# verify the data\n",
    "toyDF.show(3)\n",
    "\n",
    "validationDF = toyDF"
   ]
  },
  {
   "cell_type": "code",
   "execution_count": 11,
   "metadata": {},
   "outputs": [
    {
     "name": "stdout",
     "output_type": "stream",
     "text": [
      "+-----+------------------------------------------------------------------------------------------------------------------------------------------------------------------------------------------------------------------------------------------------------------------------------------------------------------------------------------------------------------------------------------------------------------+\n",
      "|Label|features                                                                                                                                                                                                                                                                                                                                                                                                    |\n",
      "+-----+------------------------------------------------------------------------------------------------------------------------------------------------------------------------------------------------------------------------------------------------------------------------------------------------------------------------------------------------------------------------------------------------------------+\n",
      "|0    |[1.0,1.0,5.0,0.0,1382.0,4.0,15.0,2.0,181.0,1.0,2.0,2.0,1.761418852E9,2.162322587E9,4.220739894E9,2.06825978E9,6.33879704E8,2.114768079E9,3.732510136E9,5.29118562E8,2.805916944E9,2.832028932E9,2.999688344E9,9.35969124E8,6.73490422E8,4.50684655E8,2.34308905E9,2.300273383E9,3.854202482E9,4.114618041E9,5.68184265E8,2.972002973E9,1.29309004E8,9.74593739E8,3.3180233E9,3.904386055E9,2.535972118E9]   |\n",
      "|0    |[2.0,0.0,44.0,1.0,102.0,8.0,2.0,2.0,4.0,1.0,1.0,4.0,1.761418852E9,4.040097828E9,1.869084645E9,1.093094615E9,6.33879704E8,4.268462821E9,2.452290752E9,1.85940084E8,2.805916944E9,7.26918651E8,1.327187699E9,1.647331814E9,3.607233929E9,2.995026422E9,3.871716813E9,3.375315809E9,1.30367684E8,2.957919856E9,5.68184265E8,1.480633834E9,1.626743326E9,9.74593739E8,1.139883659E9,3.904386055E9,1.931228757E9]|\n",
      "|0    |[2.0,0.0,1.0,14.0,767.0,89.0,4.0,2.0,245.0,1.0,3.0,45.0,6.79372879E8,1.73120604E8,4.7159414E7,3.247169921E9,6.33879704E8,2.114768079E9,3.347186849E9,1.85940084E8,2.805916944E9,9.90438539E8,1.600020625E9,2.413822452E9,2.858768943E9,1.31152527E8,1.841762541E9,9.0703164E8,2.399067775E9,8.73599373E8,0.0,0.0,3.850880102E9,9.74593739E8,9.9144406E8,0.0,0.0]                                            |\n",
      "|0    |(37,[1,4,12,13,14,15,16,17,18,19,20,21,22,23,24,25,26,27,28,29,32,33,34],[893.0,4392.0,1.761418852E9,7.3968263E8,2.846391912E9,7.73314294E8,6.33879704E8,4.268462821E9,7.80822683E8,1.85940084E8,2.805916944E9,4.025107259E9,3.843940244E9,2.735040458E9,8.90697446E8,1.31152527E8,4.04951588E8,1.387816975E9,5.12280399E8,1.96183373E9,1.798986918E9,9.74593739E8,2.43424545E9])                           |\n",
      "|0    |[3.0,-1.0,0.0,0.0,2.0,0.0,3.0,0.0,0.0,1.0,1.0,0.0,2.364568165E9,2.923864733E9,3.356919995E9,4.179816365E9,6.33879704E8,3.26208445E8,2.912920149E9,1.85940084E8,2.805916944E9,1.384300855E9,3.856183127E9,1.722247718E9,4.033631148E9,4.50684655E8,2.415178755E9,2.816274E7,5.12280399E8,6.49316263E8,0.0,0.0,5.66841706E8,8.51920782E8,3.008311592E9,0.0,0.0]                                               |\n",
      "|0    |[0.0,-1.0,0.0,0.0,12824.0,0.0,0.0,0.0,6.0,0.0,0.0,0.0,9.8275684E7,1.822203123E9,6.57517724E8,1.409342347E9,1.135711049E9,1.869454312E9,1.404434808E9,1.85940084E8,2.805916944E9,9.90438539E8,2.447965223E9,3.192240247E9,2.683387682E9,1.31152527E8,1.10533152E8,2.613575669E9,2.003624857E9,2.455065187E9,0.0,0.0,6.06844688E8,3.195814324E9,1.925680913E9,0.0,0.0]                                        |\n",
      "|0    |[0.0,1.0,2.0,0.0,3168.0,0.0,0.0,1.0,2.0,0.0,0.0,0.0,1.134183588E9,2.906990498E9,3.223548624E9,3.545152426E9,1.135711049E9,4.268462821E9,1.271332842E9,1.85940084E8,2.805916944E9,9.90438539E8,2.757794475E9,3.49582648E8,1.999241431E9,1.31152527E8,4.19123819E9,2.953657801E9,2.003624857E9,3.455746649E9,0.0,0.0,5.37273874E8,2.4784944E9,4.55437921E8,0.0,0.0]                                           |\n",
      "|1    |[1.0,4.0,2.0,0.0,0.0,0.0,1.0,0.0,0.0,1.0,1.0,0.0,1.761418852E9,7.3968263E8,1.346084284E9,3.83961768E9,4.081533225E9,3.26208445E8,9.54965236E8,5.29118562E8,2.805916944E9,1.417416702E9,3.163332385E9,1.621831431E9,1.190406755E9,1.31152527E8,4.04951588E8,3.870735815E9,3.854202482E9,1.96183373E9,0.0,0.0,1.393992063E9,8.51920782E8,2.43424545E9,0.0,0.0]                                                |\n",
      "|0    |[0.0,44.0,4.0,8.0,19010.0,249.0,28.0,31.0,141.0,0.0,1.0,8.0,9.8275684E7,3.627242335E9,3.492987491E9,3.247169921E9,6.33879704E8,2.114768079E9,3.585518834E9,1.85940084E8,2.805916944E9,7.18131022E8,1.41214418E8,3.753576955E9,1.10144256E9,2.995026422E9,3.796905673E9,2.22360657E9,3.854202482E9,1.117973945E9,0.0,0.0,1360682.0,8.51920782E8,9.9144406E8,0.0,0.0]                                         |\n",
      "|0    |[0.0,35.0,0.0,1.0,33737.0,21.0,1.0,2.0,3.0,0.0,1.0,1.0,9.8275684E7,1.359691941E9,3.49375594E9,3.944732968E9,6.33879704E8,0.0,1.378368796E9,1.85940084E8,2.805916944E9,2.2726803E7,3.843940244E9,2.501895337E9,8.90697446E8,1.31152527E8,7.19589916E8,2.395411577E9,3.569056728E9,1.892742649E9,0.0,0.0,2.4143376E8,8.51920782E8,2.44310805E8,0.0,0.0]                                                       |\n",
      "|0    |[0.0,2.0,632.0,0.0,56770.0,0.0,0.0,5.0,65.0,0.0,0.0,2.0,9.8275684E7,7.3979506E7,2.062028047E9,2.161661274E9,6.33879704E8,2.114768079E9,6.9696505E7,1.85940084E8,2.093428418E9,9.90438539E8,2.116836373E9,3.486017542E9,2.443294225E9,2.995026422E9,1.478826667E9,3.42520061E8,2.003624857E9,1.87896596E8,5.68184265E8,1.480633834E9,3.421256155E9,9.74593739E8,3.470446969E9,3.935970412E9,2.589289724E9]   |\n",
      "|0    |[0.0,6.0,6.0,6.0,421.0,109.0,1.0,7.0,107.0,0.0,1.0,6.0,9.8275684E7,2.606747951E9,0.0,0.0,1.291264903E9,0.0,2.86335476E8,1.85940084E8,2.805916944E9,9.90438539E8,2.895916687E9,0.0,1.848470037E9,1.31152527E8,2.036996654E9,0.0,3.569056728E9,2.326420327E9,0.0,0.0,0.0,8.51920782E8,0.0,0.0,0.0]                                                                                                            |\n",
      "|1    |[0.0,-1.0,0.0,0.0,1465.0,0.0,17.0,0.0,4.0,0.0,4.0,0.0,6.05374176E8,9.50618017E8,4.201067605E9,1.779759545E9,6.33879704E8,4.268462821E9,4.78601451E8,5.29118562E8,2.805916944E9,3.887736169E9,1.96911368E9,5.46150023E8,1.501037918E9,1.31152527E8,1.3675373E9,4.172497942E9,3.854202482E9,3.858297231E9,0.0,0.0,4.091401497E9,8.51920782E8,3.008311592E9,0.0,0.0]                                           |\n",
      "|1    |[0.0,2.0,11.0,5.0,10262.0,34.0,2.0,4.0,5.0,0.0,1.0,5.0,3.193477969E9,6.7850672E8,3.447355938E9,4.218631391E9,6.33879704E8,0.0,1.826306456E9,9.07248846E8,2.805916944E9,1.072762802E9,1.484048841E9,2.540485964E9,1.946951949E9,4.50684655E8,8.22941019E8,1.32874512E8,1.30367684E8,2.299890151E9,4.05117571E8,2.757290579E9,2.695585994E9,8.51920782E8,2.689774061E9,2.60456656E9,2.305278162E9]            |\n",
      "|0    |[0.0,51.0,84.0,4.0,3633.0,26.0,1.0,4.0,8.0,0.0,1.0,4.0,1.520359856E9,2.162322587E9,2.534687745E9,1.572801733E9,1.55377831E8,3.26208445E8,2.632323949E9,1.85940084E8,2.805916944E9,5.54100117E8,3.048971619E9,8.3186455E7,2.86922163E9,4.50684655E8,1.81697097E8,7.35260252E8,8.81205885E8,3.03651618E8,5.68184265E8,2.972002973E9,4.195555431E9,3.686041303E9,2.39574001E9,3.904386055E9,3.292282712E9]     |\n",
      "|0    |[0.0,2.0,1.0,18.0,20255.0,0.0,0.0,1.0,1306.0,0.0,0.0,20.0,9.8275684E7,3.161341377E9,1.736023145E9,3.490516789E9,1.291264903E9,2.114768079E9,3.39423052E9,1.683111162E9,2.805916944E9,9.90438539E8,2.684750794E9,3.119680563E9,5.84202924E8,1.525414787E9,3.607261498E9,2.58299472E8,2.003624857E9,9.75186173E8,0.0,0.0,3.022437523E9,9.74593739E8,7.72407349E8,0.0,0.0]                                     |\n",
      "|1    |[1.0,987.0,0.0,2.0,105.0,2.0,1.0,2.0,2.0,1.0,1.0,2.0,1.761418852E9,9.53486857E8,3.663736962E9,1.125798038E9,1.135711049E9,2.114768079E9,1.060484672E9,1.85940084E8,2.805916944E9,9.90438539E8,1.029681176E9,1.789572471E9,2.484545048E9,1.31152527E8,3.998653666E9,7.88787008E8,3.569056728E9,1.478578923E9,5.68184265E8,2.972002973E9,9.91968417E8,8.51920782E8,2.988296451E9,2045441.0,2.858355221E9]     |\n",
      "|0    |[0.0,1.0,0.0,0.0,16597.0,557.0,3.0,5.0,123.0,0.0,1.0,1.0,2.364568165E9,2.094111436E9,2.012410597E9,3.513153977E9,1.291264903E9,4.222442646E9,2.410826035E9,1.85940084E8,2.805916944E9,9807157.0,9.07523573E8,2.67090135E9,1.115894479E9,2.995026422E9,2.21327068E9,8.35338422E8,3.854202482E9,3.504728839E9,0.0,0.0,3.75493529E9,8.51920782E8,2.934254447E9,0.0,0.0]                                        |\n",
      "|0    |[0.0,24.0,4.0,2.0,2056.0,12.0,6.0,10.0,83.0,0.0,1.0,2.0,9.8275684E7,4.040097828E9,1.46038155E8,3.417681691E9,9.4427259E8,4.222442646E9,2.176516866E9,9.37732754E8,2.805916944E9,3.91998577E8,3.070838166E9,4.75296867E8,5.30394168E8,4.50684655E8,1.440494971E9,2.12244053E8,3.854202482E9,2.957919856E9,5.68184265E8,2.972002973E9,4.090163165E9,8.51920782E8,1.284397807E9,3.935970412E9,2.509487017E9]   |\n",
      "|0    |[7.0,102.0,0.0,3.0,780.0,15.0,7.0,15.0,15.0,1.0,1.0,3.0,1.016956805E9,2.959475289E9,9.82909782E8,3.65506011E8,1.291264903E9,3.26208445E8,1.2872913E7,1.85940084E8,2.805916944E9,1.657783997E9,2.365579783E9,1.701729299E9,4.283836126E9,2.90434495E9,6.65920268E8,4.203546026E9,3.854202482E9,1.591578846E9,0.0,0.0,3.777815368E9,3.286002927E9,1.225019507E9,0.0,0.0]                                      |\n",
      "+-----+------------------------------------------------------------------------------------------------------------------------------------------------------------------------------------------------------------------------------------------------------------------------------------------------------------------------------------------------------------------------------------------------------------+\n",
      "only showing top 20 rows\n",
      "\n",
      "+-----+------------------------------------------------------------------------------------------------------------------------------------------------------------------------------------------------------------------------------------------------------------------------------------------------------------------------------------------------------------------------------------------------------------+\n",
      "|Label|features                                                                                                                                                                                                                                                                                                                                                                                                    |\n",
      "+-----+------------------------------------------------------------------------------------------------------------------------------------------------------------------------------------------------------------------------------------------------------------------------------------------------------------------------------------------------------------------------------------------------------------+\n",
      "|0    |[1.0,1.0,5.0,0.0,1382.0,4.0,15.0,2.0,181.0,1.0,2.0,2.0,1.761418852E9,2.162322587E9,4.220739894E9,2.06825978E9,6.33879704E8,2.114768079E9,3.732510136E9,5.29118562E8,2.805916944E9,2.832028932E9,2.999688344E9,9.35969124E8,6.73490422E8,4.50684655E8,2.34308905E9,2.300273383E9,3.854202482E9,4.114618041E9,5.68184265E8,2.972002973E9,1.29309004E8,9.74593739E8,3.3180233E9,3.904386055E9,2.535972118E9]   |\n",
      "|0    |[2.0,0.0,44.0,1.0,102.0,8.0,2.0,2.0,4.0,1.0,1.0,4.0,1.761418852E9,4.040097828E9,1.869084645E9,1.093094615E9,6.33879704E8,4.268462821E9,2.452290752E9,1.85940084E8,2.805916944E9,7.26918651E8,1.327187699E9,1.647331814E9,3.607233929E9,2.995026422E9,3.871716813E9,3.375315809E9,1.30367684E8,2.957919856E9,5.68184265E8,1.480633834E9,1.626743326E9,9.74593739E8,1.139883659E9,3.904386055E9,1.931228757E9]|\n",
      "|0    |[2.0,0.0,1.0,14.0,767.0,89.0,4.0,2.0,245.0,1.0,3.0,45.0,6.79372879E8,1.73120604E8,4.7159414E7,3.247169921E9,6.33879704E8,2.114768079E9,3.347186849E9,1.85940084E8,2.805916944E9,9.90438539E8,1.600020625E9,2.413822452E9,2.858768943E9,1.31152527E8,1.841762541E9,9.0703164E8,2.399067775E9,8.73599373E8,0.0,0.0,3.850880102E9,9.74593739E8,9.9144406E8,0.0,0.0]                                            |\n",
      "|0    |(37,[1,4,12,13,14,15,16,17,18,19,20,21,22,23,24,25,26,27,28,29,32,33,34],[893.0,4392.0,1.761418852E9,7.3968263E8,2.846391912E9,7.73314294E8,6.33879704E8,4.268462821E9,7.80822683E8,1.85940084E8,2.805916944E9,4.025107259E9,3.843940244E9,2.735040458E9,8.90697446E8,1.31152527E8,4.04951588E8,1.387816975E9,5.12280399E8,1.96183373E9,1.798986918E9,9.74593739E8,2.43424545E9])                           |\n",
      "|0    |[3.0,-1.0,0.0,0.0,2.0,0.0,3.0,0.0,0.0,1.0,1.0,0.0,2.364568165E9,2.923864733E9,3.356919995E9,4.179816365E9,6.33879704E8,3.26208445E8,2.912920149E9,1.85940084E8,2.805916944E9,1.384300855E9,3.856183127E9,1.722247718E9,4.033631148E9,4.50684655E8,2.415178755E9,2.816274E7,5.12280399E8,6.49316263E8,0.0,0.0,5.66841706E8,8.51920782E8,3.008311592E9,0.0,0.0]                                               |\n",
      "|0    |[0.0,-1.0,0.0,0.0,12824.0,0.0,0.0,0.0,6.0,0.0,0.0,0.0,9.8275684E7,1.822203123E9,6.57517724E8,1.409342347E9,1.135711049E9,1.869454312E9,1.404434808E9,1.85940084E8,2.805916944E9,9.90438539E8,2.447965223E9,3.192240247E9,2.683387682E9,1.31152527E8,1.10533152E8,2.613575669E9,2.003624857E9,2.455065187E9,0.0,0.0,6.06844688E8,3.195814324E9,1.925680913E9,0.0,0.0]                                        |\n",
      "|0    |[0.0,1.0,2.0,0.0,3168.0,0.0,0.0,1.0,2.0,0.0,0.0,0.0,1.134183588E9,2.906990498E9,3.223548624E9,3.545152426E9,1.135711049E9,4.268462821E9,1.271332842E9,1.85940084E8,2.805916944E9,9.90438539E8,2.757794475E9,3.49582648E8,1.999241431E9,1.31152527E8,4.19123819E9,2.953657801E9,2.003624857E9,3.455746649E9,0.0,0.0,5.37273874E8,2.4784944E9,4.55437921E8,0.0,0.0]                                           |\n",
      "|1    |[1.0,4.0,2.0,0.0,0.0,0.0,1.0,0.0,0.0,1.0,1.0,0.0,1.761418852E9,7.3968263E8,1.346084284E9,3.83961768E9,4.081533225E9,3.26208445E8,9.54965236E8,5.29118562E8,2.805916944E9,1.417416702E9,3.163332385E9,1.621831431E9,1.190406755E9,1.31152527E8,4.04951588E8,3.870735815E9,3.854202482E9,1.96183373E9,0.0,0.0,1.393992063E9,8.51920782E8,2.43424545E9,0.0,0.0]                                                |\n",
      "|0    |[0.0,44.0,4.0,8.0,19010.0,249.0,28.0,31.0,141.0,0.0,1.0,8.0,9.8275684E7,3.627242335E9,3.492987491E9,3.247169921E9,6.33879704E8,2.114768079E9,3.585518834E9,1.85940084E8,2.805916944E9,7.18131022E8,1.41214418E8,3.753576955E9,1.10144256E9,2.995026422E9,3.796905673E9,2.22360657E9,3.854202482E9,1.117973945E9,0.0,0.0,1360682.0,8.51920782E8,9.9144406E8,0.0,0.0]                                         |\n",
      "|0    |[0.0,35.0,0.0,1.0,33737.0,21.0,1.0,2.0,3.0,0.0,1.0,1.0,9.8275684E7,1.359691941E9,3.49375594E9,3.944732968E9,6.33879704E8,0.0,1.378368796E9,1.85940084E8,2.805916944E9,2.2726803E7,3.843940244E9,2.501895337E9,8.90697446E8,1.31152527E8,7.19589916E8,2.395411577E9,3.569056728E9,1.892742649E9,0.0,0.0,2.4143376E8,8.51920782E8,2.44310805E8,0.0,0.0]                                                       |\n",
      "|0    |[0.0,2.0,632.0,0.0,56770.0,0.0,0.0,5.0,65.0,0.0,0.0,2.0,9.8275684E7,7.3979506E7,2.062028047E9,2.161661274E9,6.33879704E8,2.114768079E9,6.9696505E7,1.85940084E8,2.093428418E9,9.90438539E8,2.116836373E9,3.486017542E9,2.443294225E9,2.995026422E9,1.478826667E9,3.42520061E8,2.003624857E9,1.87896596E8,5.68184265E8,1.480633834E9,3.421256155E9,9.74593739E8,3.470446969E9,3.935970412E9,2.589289724E9]   |\n",
      "|0    |[0.0,6.0,6.0,6.0,421.0,109.0,1.0,7.0,107.0,0.0,1.0,6.0,9.8275684E7,2.606747951E9,0.0,0.0,1.291264903E9,0.0,2.86335476E8,1.85940084E8,2.805916944E9,9.90438539E8,2.895916687E9,0.0,1.848470037E9,1.31152527E8,2.036996654E9,0.0,3.569056728E9,2.326420327E9,0.0,0.0,0.0,8.51920782E8,0.0,0.0,0.0]                                                                                                            |\n",
      "|1    |[0.0,-1.0,0.0,0.0,1465.0,0.0,17.0,0.0,4.0,0.0,4.0,0.0,6.05374176E8,9.50618017E8,4.201067605E9,1.779759545E9,6.33879704E8,4.268462821E9,4.78601451E8,5.29118562E8,2.805916944E9,3.887736169E9,1.96911368E9,5.46150023E8,1.501037918E9,1.31152527E8,1.3675373E9,4.172497942E9,3.854202482E9,3.858297231E9,0.0,0.0,4.091401497E9,8.51920782E8,3.008311592E9,0.0,0.0]                                           |\n",
      "|1    |[0.0,2.0,11.0,5.0,10262.0,34.0,2.0,4.0,5.0,0.0,1.0,5.0,3.193477969E9,6.7850672E8,3.447355938E9,4.218631391E9,6.33879704E8,0.0,1.826306456E9,9.07248846E8,2.805916944E9,1.072762802E9,1.484048841E9,2.540485964E9,1.946951949E9,4.50684655E8,8.22941019E8,1.32874512E8,1.30367684E8,2.299890151E9,4.05117571E8,2.757290579E9,2.695585994E9,8.51920782E8,2.689774061E9,2.60456656E9,2.305278162E9]            |\n",
      "|0    |[0.0,51.0,84.0,4.0,3633.0,26.0,1.0,4.0,8.0,0.0,1.0,4.0,1.520359856E9,2.162322587E9,2.534687745E9,1.572801733E9,1.55377831E8,3.26208445E8,2.632323949E9,1.85940084E8,2.805916944E9,5.54100117E8,3.048971619E9,8.3186455E7,2.86922163E9,4.50684655E8,1.81697097E8,7.35260252E8,8.81205885E8,3.03651618E8,5.68184265E8,2.972002973E9,4.195555431E9,3.686041303E9,2.39574001E9,3.904386055E9,3.292282712E9]     |\n",
      "|0    |[0.0,2.0,1.0,18.0,20255.0,0.0,0.0,1.0,1306.0,0.0,0.0,20.0,9.8275684E7,3.161341377E9,1.736023145E9,3.490516789E9,1.291264903E9,2.114768079E9,3.39423052E9,1.683111162E9,2.805916944E9,9.90438539E8,2.684750794E9,3.119680563E9,5.84202924E8,1.525414787E9,3.607261498E9,2.58299472E8,2.003624857E9,9.75186173E8,0.0,0.0,3.022437523E9,9.74593739E8,7.72407349E8,0.0,0.0]                                     |\n",
      "|1    |[1.0,987.0,0.0,2.0,105.0,2.0,1.0,2.0,2.0,1.0,1.0,2.0,1.761418852E9,9.53486857E8,3.663736962E9,1.125798038E9,1.135711049E9,2.114768079E9,1.060484672E9,1.85940084E8,2.805916944E9,9.90438539E8,1.029681176E9,1.789572471E9,2.484545048E9,1.31152527E8,3.998653666E9,7.88787008E8,3.569056728E9,1.478578923E9,5.68184265E8,2.972002973E9,9.91968417E8,8.51920782E8,2.988296451E9,2045441.0,2.858355221E9]     |\n",
      "|0    |[0.0,1.0,0.0,0.0,16597.0,557.0,3.0,5.0,123.0,0.0,1.0,1.0,2.364568165E9,2.094111436E9,2.012410597E9,3.513153977E9,1.291264903E9,4.222442646E9,2.410826035E9,1.85940084E8,2.805916944E9,9807157.0,9.07523573E8,2.67090135E9,1.115894479E9,2.995026422E9,2.21327068E9,8.35338422E8,3.854202482E9,3.504728839E9,0.0,0.0,3.75493529E9,8.51920782E8,2.934254447E9,0.0,0.0]                                        |\n",
      "|0    |[0.0,24.0,4.0,2.0,2056.0,12.0,6.0,10.0,83.0,0.0,1.0,2.0,9.8275684E7,4.040097828E9,1.46038155E8,3.417681691E9,9.4427259E8,4.222442646E9,2.176516866E9,9.37732754E8,2.805916944E9,3.91998577E8,3.070838166E9,4.75296867E8,5.30394168E8,4.50684655E8,1.440494971E9,2.12244053E8,3.854202482E9,2.957919856E9,5.68184265E8,2.972002973E9,4.090163165E9,8.51920782E8,1.284397807E9,3.935970412E9,2.509487017E9]   |\n",
      "|0    |[7.0,102.0,0.0,3.0,780.0,15.0,7.0,15.0,15.0,1.0,1.0,3.0,1.016956805E9,2.959475289E9,9.82909782E8,3.65506011E8,1.291264903E9,3.26208445E8,1.2872913E7,1.85940084E8,2.805916944E9,1.657783997E9,2.365579783E9,1.701729299E9,4.283836126E9,2.90434495E9,6.65920268E8,4.203546026E9,3.854202482E9,1.591578846E9,0.0,0.0,3.777815368E9,3.286002927E9,1.225019507E9,0.0,0.0]                                      |\n",
      "+-----+------------------------------------------------------------------------------------------------------------------------------------------------------------------------------------------------------------------------------------------------------------------------------------------------------------------------------------------------------------------------------------------------------------+\n",
      "only showing top 20 rows\n",
      "\n"
     ]
    }
   ],
   "source": [
    "# Build trainDF and validationDF with vector inputs\n",
    "\n",
    "from pyspark.ml.feature import OneHotEncoderEstimator, StringIndexer, VectorAssembler\n",
    "\n",
    "\n",
    "assemblerInputs = ['I-1','I-2','I-3','I-4','I-5','I-6','I-7','I-8','I-9',\n",
    "                                        'I-10','I-11','I-12','I-13','C-1','C-2','C-3','C-4','C-5','C-6',\n",
    "                                        'C-7','C-8','C-9','C-10','C-11','C-12','C-13','C-14','C-15',\n",
    "                                        'C-16','C-17','C-18','C-19','C-20','C-21','C-22','C-23','C-24',\n",
    "                                        'C-25','C-26']\n",
    "\n",
    "# Drop I-12 and C-22 with 76% missing values\n",
    "ignore = ['I-12', 'C-22', 'Label']\n",
    "\n",
    "# Build vector for decision tree for train data set\n",
    "assembler = VectorAssembler(\n",
    "     inputCols=[x for x in trainDF.columns if x not in ignore],\n",
    "     outputCol='features')\n",
    "\n",
    "# Transform the data for train data set\n",
    "train_output = assembler.transform(trainDF)\n",
    "train_output.select(\"Label\", \"features\").show(truncate=False)\n",
    "\n",
    "# Build vector for decision dree for validation data set\n",
    "assembler = VectorAssembler(\n",
    "     inputCols=[x for x in validationDF.columns if x not in ignore],\n",
    "     outputCol='features')\n",
    "\n",
    "# Transform the data for validation data set\n",
    "validation_output = assembler.transform(validationDF)\n",
    "validation_output.select(\"Label\", \"features\").show(truncate=False)"
   ]
  },
  {
   "cell_type": "code",
   "execution_count": 12,
   "metadata": {},
   "outputs": [
    {
     "name": "stdout",
     "output_type": "stream",
     "text": [
      "+-----+---+---+---+---+-----+---+---+---+----+----+----+----+----+----------+----------+----------+----------+----------+----------+----------+----------+----------+----------+----------+----------+----------+----------+----------+----------+----------+----------+---------+----------+----------+----------+----------+----------+----------+----------+\n",
      "|Label|I-1|I-2|I-3|I-4|  I-5|I-6|I-7|I-8| I-9|I-10|I-11|I-12|I-13|       C-1|       C-2|       C-3|       C-4|       C-5|       C-6|       C-7|       C-8|       C-9|      C-10|      C-11|      C-12|      C-13|      C-14|      C-15|      C-16|      C-17|      C-18|     C-19|      C-20|      C-21|      C-22|      C-23|      C-24|      C-25|      C-26|\n",
      "+-----+---+---+---+---+-----+---+---+---+----+----+----+----+----+----------+----------+----------+----------+----------+----------+----------+----------+----------+----------+----------+----------+----------+----------+----------+----------+----------+----------+---------+----------+----------+----------+----------+----------+----------+----------+\n",
      "|    0|  1|  1|  5|  0| 1382|  4| 15|  2| 181|   1|   2|   0|   2|1761418852|2162322587|4220739894|2068259780| 633879704|2114768079|3732510136| 529118562|2805916944|2832028932|2999688344| 935969124| 673490422| 450684655|2343089050|2300273383|3854202482|4114618041|568184265|2972002973| 129309004|         0| 974593739|3318023300|3904386055|2535972118|\n",
      "|    0|  2|  0| 44|  1|  102|  8|  2|  2|   4|   1|   1|   0|   4|1761418852|4040097828|1869084645|1093094615| 633879704|4268462821|2452290752| 185940084|2805916944| 726918651|1327187699|1647331814|3607233929|2995026422|3871716813|3375315809| 130367684|2957919856|568184265|1480633834|1626743326|         0| 974593739|1139883659|3904386055|1931228757|\n",
      "|    0|  2|  0|  1| 14|  767| 89|  4|  2| 245|   1|   3|   3|  45| 679372879| 173120604|  47159414|3247169921| 633879704|2114768079|3347186849| 185940084|2805916944| 990438539|1600020625|2413822452|2858768943| 131152527|1841762541| 907031640|2399067775| 873599373|        0|         0|3850880102|2905629419| 974593739| 991444060|         0|         0|\n",
      "|    0|  0|893|  0|  0| 4392|  0|  0|  0|   0|   0|   0|   0|   0|1761418852| 739682630|2846391912| 773314294| 633879704|4268462821| 780822683| 185940084|2805916944|4025107259|3843940244|2735040458| 890697446| 131152527| 404951588|1387816975| 512280399|1961833730|        0|         0|1798986918|         0| 974593739|2434245450|         0|         0|\n",
      "|    0|  3| -1|  0|  0|    2|  0|  3|  0|   0|   1|   1|   0|   0|2364568165|2923864733|3356919995|4179816365| 633879704| 326208445|2912920149| 185940084|2805916944|1384300855|3856183127|1722247718|4033631148| 450684655|2415178755|  28162740| 512280399| 649316263|        0|         0| 566841706|         0| 851920782|3008311592|         0|         0|\n",
      "|    0|  0| -1|  0|  0|12824|  0|  0|  0|   6|   0|   0|   0|   0|  98275684|1822203123| 657517724|1409342347|1135711049|1869454312|1404434808| 185940084|2805916944| 990438539|2447965223|3192240247|2683387682| 131152527| 110533152|2613575669|2003624857|2455065187|        0|         0| 606844688|2395567348|3195814324|1925680913|         0|         0|\n",
      "|    0|  0|  1|  2|  0| 3168|  0|  0|  1|   2|   0|   0|   0|   0|1134183588|2906990498|3223548624|3545152426|1135711049|4268462821|1271332842| 185940084|2805916944| 990438539|2757794475| 349582648|1999241431| 131152527|4191238190|2953657801|2003624857|3455746649|        0|         0| 537273874|         0|2478494400| 455437921|         0|         0|\n",
      "|    1|  1|  4|  2|  0|    0|  0|  1|  0|   0|   1|   1|   0|   0|1761418852| 739682630|1346084284|3839617680|4081533225| 326208445| 954965236| 529118562|2805916944|1417416702|3163332385|1621831431|1190406755| 131152527| 404951588|3870735815|3854202482|1961833730|        0|         0|1393992063|         0| 851920782|2434245450|         0|         0|\n",
      "|    0|  0| 44|  4|  8|19010|249| 28| 31| 141|   0|   1|   0|   8|  98275684|3627242335|3492987491|3247169921| 633879704|2114768079|3585518834| 185940084|2805916944| 718131022| 141214418|3753576955|1101442560|2995026422|3796905673|2223606570|3854202482|1117973945|        0|         0|   1360682|         0| 851920782| 991444060|         0|         0|\n",
      "|    0|  0| 35|  0|  1|33737| 21|  1|  2|   3|   0|   1|   0|   1|  98275684|1359691941|3493755940|3944732968| 633879704|         0|1378368796| 185940084|2805916944|  22726803|3843940244|2501895337| 890697446| 131152527| 719589916|2395411577|3569056728|1892742649|        0|         0| 241433760|         0| 851920782| 244310805|         0|         0|\n",
      "|    0|  0|  2|632|  0|56770|  0|  0|  5|  65|   0|   0|   0|   2|  98275684|  73979506|2062028047|2161661274| 633879704|2114768079|  69696505| 185940084|2093428418| 990438539|2116836373|3486017542|2443294225|2995026422|1478826667| 342520061|2003624857| 187896596|568184265|1480633834|3421256155|         0| 974593739|3470446969|3935970412|2589289724|\n",
      "|    0|  0|  6|  6|  6|  421|109|  1|  7| 107|   0|   1|   0|   6|  98275684|2606747951|         0|         0|1291264903|         0| 286335476| 185940084|2805916944| 990438539|2895916687|         0|1848470037| 131152527|2036996654|         0|3569056728|2326420327|        0|         0|         0|         0| 851920782|         0|         0|         0|\n",
      "|    1|  0| -1|  0|  0| 1465|  0| 17|  0|   4|   0|   4|   0|   0| 605374176| 950618017|4201067605|1779759545| 633879704|4268462821| 478601451| 529118562|2805916944|3887736169|1969113680| 546150023|1501037918| 131152527|1367537300|4172497942|3854202482|3858297231|        0|         0|4091401497|         0| 851920782|3008311592|         0|         0|\n",
      "|    1|  0|  2| 11|  5|10262| 34|  2|  4|   5|   0|   1|   0|   5|3193477969| 678506720|3447355938|4218631391| 633879704|         0|1826306456| 907248846|2805916944|1072762802|1484048841|2540485964|1946951949| 450684655| 822941019| 132874512| 130367684|2299890151|405117571|2757290579|2695585994|         0| 851920782|2689774061|2604566560|2305278162|\n",
      "|    0|  0| 51| 84|  4| 3633| 26|  1|  4|   8|   0|   1|   0|   4|1520359856|2162322587|2534687745|1572801733| 155377831| 326208445|2632323949| 185940084|2805916944| 554100117|3048971619|  83186455|2869221630| 450684655| 181697097| 735260252| 881205885| 303651618|568184265|2972002973|4195555431|         0|3686041303|2395740010|3904386055|3292282712|\n",
      "|    0|  0|  2|  1| 18|20255|  0|  0|  1|1306|   0|   0|   0|  20|  98275684|3161341377|1736023145|3490516789|1291264903|2114768079|3394230520|1683111162|2805916944| 990438539|2684750794|3119680563| 584202924|1525414787|3607261498| 258299472|2003624857| 975186173|        0|         0|3022437523|         0| 974593739| 772407349|         0|         0|\n",
      "|    1|  1|987|  0|  2|  105|  2|  1|  2|   2|   1|   1|   0|   2|1761418852| 953486857|3663736962|1125798038|1135711049|2114768079|1060484672| 185940084|2805916944| 990438539|1029681176|1789572471|2484545048| 131152527|3998653666| 788787008|3569056728|1478578923|568184265|2972002973| 991968417|         0| 851920782|2988296451|   2045441|2858355221|\n",
      "|    0|  0|  1|  0|  0|16597|557|  3|  5| 123|   0|   1|   0|   1|2364568165|2094111436|2012410597|3513153977|1291264903|4222442646|2410826035| 185940084|2805916944|   9807157| 907523573|2670901350|1115894479|2995026422|2213270680| 835338422|3854202482|3504728839|        0|         0|3754935290|2905629419| 851920782|2934254447|         0|         0|\n",
      "|    0|  0| 24|  4|  2| 2056| 12|  6| 10|  83|   0|   1|   0|   2|  98275684|4040097828| 146038155|3417681691| 944272590|4222442646|2176516866| 937732754|2805916944| 391998577|3070838166| 475296867| 530394168| 450684655|1440494971| 212244053|3854202482|2957919856|568184265|2972002973|4090163165|         0| 851920782|1284397807|3935970412|2509487017|\n",
      "|    0|  7|102|  0|  3|  780| 15|  7| 15|  15|   1|   1|   0|   3|1016956805|2959475289| 982909782| 365506011|1291264903| 326208445|  12872913| 185940084|2805916944|1657783997|2365579783|1701729299|4283836126|2904344950| 665920268|4203546026|3854202482|1591578846|        0|         0|3777815368|         0|3286002927|1225019507|         0|         0|\n",
      "+-----+---+---+---+---+-----+---+---+---+----+----+----+----+----+----------+----------+----------+----------+----------+----------+----------+----------+----------+----------+----------+----------+----------+----------+----------+----------+----------+----------+---------+----------+----------+----------+----------+----------+----------+----------+\n",
      "only showing top 20 rows\n",
      "\n"
     ]
    }
   ],
   "source": [
    "# See if it matches test\n",
    "validationDF.show(20)"
   ]
  },
  {
   "cell_type": "code",
   "execution_count": 13,
   "metadata": {},
   "outputs": [
    {
     "name": "stdout",
     "output_type": "stream",
     "text": [
      "Training Dataset Count: 100\n",
      "Test Dataset Count: 100\n",
      "+-----+------------------------------------------------------------------------------------------------------------------------------------------------------------------------------------------------------------------------------------------------------------------------------------------------------------------------------------------------------------------------------------------------------------+\n",
      "|Label|features                                                                                                                                                                                                                                                                                                                                                                                                    |\n",
      "+-----+------------------------------------------------------------------------------------------------------------------------------------------------------------------------------------------------------------------------------------------------------------------------------------------------------------------------------------------------------------------------------------------------------------+\n",
      "|0    |[1.0,1.0,5.0,0.0,1382.0,4.0,15.0,2.0,181.0,1.0,2.0,2.0,1.761418852E9,2.162322587E9,4.220739894E9,2.06825978E9,6.33879704E8,2.114768079E9,3.732510136E9,5.29118562E8,2.805916944E9,2.832028932E9,2.999688344E9,9.35969124E8,6.73490422E8,4.50684655E8,2.34308905E9,2.300273383E9,3.854202482E9,4.114618041E9,5.68184265E8,2.972002973E9,1.29309004E8,9.74593739E8,3.3180233E9,3.904386055E9,2.535972118E9]   |\n",
      "|0    |[2.0,0.0,44.0,1.0,102.0,8.0,2.0,2.0,4.0,1.0,1.0,4.0,1.761418852E9,4.040097828E9,1.869084645E9,1.093094615E9,6.33879704E8,4.268462821E9,2.452290752E9,1.85940084E8,2.805916944E9,7.26918651E8,1.327187699E9,1.647331814E9,3.607233929E9,2.995026422E9,3.871716813E9,3.375315809E9,1.30367684E8,2.957919856E9,5.68184265E8,1.480633834E9,1.626743326E9,9.74593739E8,1.139883659E9,3.904386055E9,1.931228757E9]|\n",
      "|0    |[2.0,0.0,1.0,14.0,767.0,89.0,4.0,2.0,245.0,1.0,3.0,45.0,6.79372879E8,1.73120604E8,4.7159414E7,3.247169921E9,6.33879704E8,2.114768079E9,3.347186849E9,1.85940084E8,2.805916944E9,9.90438539E8,1.600020625E9,2.413822452E9,2.858768943E9,1.31152527E8,1.841762541E9,9.0703164E8,2.399067775E9,8.73599373E8,0.0,0.0,3.850880102E9,9.74593739E8,9.9144406E8,0.0,0.0]                                            |\n",
      "|0    |(37,[1,4,12,13,14,15,16,17,18,19,20,21,22,23,24,25,26,27,28,29,32,33,34],[893.0,4392.0,1.761418852E9,7.3968263E8,2.846391912E9,7.73314294E8,6.33879704E8,4.268462821E9,7.80822683E8,1.85940084E8,2.805916944E9,4.025107259E9,3.843940244E9,2.735040458E9,8.90697446E8,1.31152527E8,4.04951588E8,1.387816975E9,5.12280399E8,1.96183373E9,1.798986918E9,9.74593739E8,2.43424545E9])                           |\n",
      "|0    |[3.0,-1.0,0.0,0.0,2.0,0.0,3.0,0.0,0.0,1.0,1.0,0.0,2.364568165E9,2.923864733E9,3.356919995E9,4.179816365E9,6.33879704E8,3.26208445E8,2.912920149E9,1.85940084E8,2.805916944E9,1.384300855E9,3.856183127E9,1.722247718E9,4.033631148E9,4.50684655E8,2.415178755E9,2.816274E7,5.12280399E8,6.49316263E8,0.0,0.0,5.66841706E8,8.51920782E8,3.008311592E9,0.0,0.0]                                               |\n",
      "|0    |[0.0,-1.0,0.0,0.0,12824.0,0.0,0.0,0.0,6.0,0.0,0.0,0.0,9.8275684E7,1.822203123E9,6.57517724E8,1.409342347E9,1.135711049E9,1.869454312E9,1.404434808E9,1.85940084E8,2.805916944E9,9.90438539E8,2.447965223E9,3.192240247E9,2.683387682E9,1.31152527E8,1.10533152E8,2.613575669E9,2.003624857E9,2.455065187E9,0.0,0.0,6.06844688E8,3.195814324E9,1.925680913E9,0.0,0.0]                                        |\n",
      "|0    |[0.0,1.0,2.0,0.0,3168.0,0.0,0.0,1.0,2.0,0.0,0.0,0.0,1.134183588E9,2.906990498E9,3.223548624E9,3.545152426E9,1.135711049E9,4.268462821E9,1.271332842E9,1.85940084E8,2.805916944E9,9.90438539E8,2.757794475E9,3.49582648E8,1.999241431E9,1.31152527E8,4.19123819E9,2.953657801E9,2.003624857E9,3.455746649E9,0.0,0.0,5.37273874E8,2.4784944E9,4.55437921E8,0.0,0.0]                                           |\n",
      "|1    |[1.0,4.0,2.0,0.0,0.0,0.0,1.0,0.0,0.0,1.0,1.0,0.0,1.761418852E9,7.3968263E8,1.346084284E9,3.83961768E9,4.081533225E9,3.26208445E8,9.54965236E8,5.29118562E8,2.805916944E9,1.417416702E9,3.163332385E9,1.621831431E9,1.190406755E9,1.31152527E8,4.04951588E8,3.870735815E9,3.854202482E9,1.96183373E9,0.0,0.0,1.393992063E9,8.51920782E8,2.43424545E9,0.0,0.0]                                                |\n",
      "|0    |[0.0,44.0,4.0,8.0,19010.0,249.0,28.0,31.0,141.0,0.0,1.0,8.0,9.8275684E7,3.627242335E9,3.492987491E9,3.247169921E9,6.33879704E8,2.114768079E9,3.585518834E9,1.85940084E8,2.805916944E9,7.18131022E8,1.41214418E8,3.753576955E9,1.10144256E9,2.995026422E9,3.796905673E9,2.22360657E9,3.854202482E9,1.117973945E9,0.0,0.0,1360682.0,8.51920782E8,9.9144406E8,0.0,0.0]                                         |\n",
      "|0    |[0.0,35.0,0.0,1.0,33737.0,21.0,1.0,2.0,3.0,0.0,1.0,1.0,9.8275684E7,1.359691941E9,3.49375594E9,3.944732968E9,6.33879704E8,0.0,1.378368796E9,1.85940084E8,2.805916944E9,2.2726803E7,3.843940244E9,2.501895337E9,8.90697446E8,1.31152527E8,7.19589916E8,2.395411577E9,3.569056728E9,1.892742649E9,0.0,0.0,2.4143376E8,8.51920782E8,2.44310805E8,0.0,0.0]                                                       |\n",
      "+-----+------------------------------------------------------------------------------------------------------------------------------------------------------------------------------------------------------------------------------------------------------------------------------------------------------------------------------------------------------------------------------------------------------------+\n",
      "only showing top 10 rows\n",
      "\n"
     ]
    }
   ],
   "source": [
    "# Check the data sizes\n",
    "\n",
    "train = train_output\n",
    "test = validation_output\n",
    "\n",
    "print(\"Training Dataset Count: \" + str(train.count()))\n",
    "print(\"Test Dataset Count: \" + str(test.count()))\n",
    "\n",
    "test.select(\"Label\", \"features\").show(10, truncate=False)"
   ]
  },
  {
   "cell_type": "code",
   "execution_count": 38,
   "metadata": {},
   "outputs": [
    {
     "name": "stdout",
     "output_type": "stream",
     "text": [
      "+-----+-------------+----------+-----------+\n",
      "|Label|rawPrediction|prediction|probability|\n",
      "+-----+-------------+----------+-----------+\n",
      "|    0|   [25.0,0.0]|       0.0|  [1.0,0.0]|\n",
      "|    0|   [32.0,0.0]|       0.0|  [1.0,0.0]|\n",
      "|    0|   [32.0,0.0]|       0.0|  [1.0,0.0]|\n",
      "|    0|    [8.0,0.0]|       0.0|  [1.0,0.0]|\n",
      "|    0|   [32.0,0.0]|       0.0|  [1.0,0.0]|\n",
      "|    0|   [32.0,0.0]|       0.0|  [1.0,0.0]|\n",
      "|    0|   [25.0,0.0]|       0.0|  [1.0,0.0]|\n",
      "|    1|    [0.0,2.0]|       1.0|  [0.0,1.0]|\n",
      "|    0|   [25.0,0.0]|       0.0|  [1.0,0.0]|\n",
      "|    0|   [25.0,0.0]|       0.0|  [1.0,0.0]|\n",
      "|    0|    [9.0,0.0]|       0.0|  [1.0,0.0]|\n",
      "|    0|   [25.0,0.0]|       0.0|  [1.0,0.0]|\n",
      "|    1|    [0.0,2.0]|       1.0|  [0.0,1.0]|\n",
      "|    1|    [0.0,1.0]|       1.0|  [0.0,1.0]|\n",
      "|    0|    [9.0,0.0]|       0.0|  [1.0,0.0]|\n",
      "|    0|   [25.0,0.0]|       0.0|  [1.0,0.0]|\n",
      "|    1|    [0.0,1.0]|       1.0|  [0.0,1.0]|\n",
      "|    0|    [3.0,0.0]|       0.0|  [1.0,0.0]|\n",
      "|    0|    [3.0,0.0]|       0.0|  [1.0,0.0]|\n",
      "|    0|    [8.0,0.0]|       0.0|  [1.0,0.0]|\n",
      "|    1|    [0.0,4.0]|       1.0|  [0.0,1.0]|\n",
      "|    0|   [32.0,0.0]|       0.0|  [1.0,0.0]|\n",
      "|    0|   [32.0,0.0]|       0.0|  [1.0,0.0]|\n",
      "|    0|   [32.0,0.0]|       0.0|  [1.0,0.0]|\n",
      "|    0|   [32.0,0.0]|       0.0|  [1.0,0.0]|\n",
      "+-----+-------------+----------+-----------+\n",
      "only showing top 25 rows\n",
      "\n"
     ]
    }
   ],
   "source": [
    "### Train and test the model to make predicitions with decision tree\n",
    "\n",
    "from pyspark.ml.classification import DecisionTreeClassifier\n",
    "dt = DecisionTreeClassifier(featuresCol = 'features', labelCol = 'Label', maxDepth = 10)\n",
    "dtModel = dt.fit(train)\n",
    "predictions = dtModel.transform(test)\n",
    "predictions.select('Label', 'rawPrediction', 'prediction', 'probability').show(25)"
   ]
  },
  {
   "cell_type": "code",
   "execution_count": 71,
   "metadata": {},
   "outputs": [
    {
     "name": "stdout",
     "output_type": "stream",
     "text": [
      "+-----+-------------+----------+-----------+\n",
      "|Label|rawPrediction|prediction|probability|\n",
      "+-----+-------------+----------+-----------+\n",
      "|    0|   [19.0,1.0]|       0.0|[0.95,0.05]|\n",
      "|    0|   [17.0,3.0]|       0.0|[0.85,0.15]|\n",
      "|    0|   [20.0,0.0]|       0.0|  [1.0,0.0]|\n",
      "|    0|   [19.0,1.0]|       0.0|[0.95,0.05]|\n",
      "|    0|   [16.0,4.0]|       0.0|  [0.8,0.2]|\n",
      "|    0|   [20.0,0.0]|       0.0|  [1.0,0.0]|\n",
      "|    0|   [19.0,1.0]|       0.0|[0.95,0.05]|\n",
      "|    1|   [5.0,15.0]|       1.0|[0.25,0.75]|\n",
      "|    0|   [19.0,1.0]|       0.0|[0.95,0.05]|\n",
      "|    0|   [19.0,1.0]|       0.0|[0.95,0.05]|\n",
      "|    0|   [19.0,1.0]|       0.0|[0.95,0.05]|\n",
      "|    0|   [19.0,1.0]|       0.0|[0.95,0.05]|\n",
      "|    1|   [6.0,14.0]|       1.0|  [0.3,0.7]|\n",
      "|    1|   [3.0,17.0]|       1.0|[0.15,0.85]|\n",
      "|    0|   [19.0,1.0]|       0.0|[0.95,0.05]|\n",
      "|    0|   [17.0,3.0]|       0.0|[0.85,0.15]|\n",
      "|    1|   [5.0,15.0]|       1.0|[0.25,0.75]|\n",
      "|    0|   [18.0,2.0]|       0.0|  [0.9,0.1]|\n",
      "|    0|   [19.0,1.0]|       0.0|[0.95,0.05]|\n",
      "|    0|   [19.0,1.0]|       0.0|[0.95,0.05]|\n",
      "+-----+-------------+----------+-----------+\n",
      "only showing top 20 rows\n",
      "\n"
     ]
    }
   ],
   "source": [
    "### Train and test a Random Forest Classifier to make predicitions\n",
    "\n",
    "from pyspark.ml.classification import RandomForestClassifier\n",
    "rf = RandomForestClassifier(featuresCol = 'features', labelCol = 'Label', maxDepth = 10, numTrees=20)\n",
    "rfModel = rf.fit(train)\n",
    "predictions = rfModel.transform(test)\n",
    "predictions.select('Label', 'rawPrediction', 'prediction', 'probability').show(20)"
   ]
  },
  {
   "cell_type": "code",
   "execution_count": 58,
   "metadata": {},
   "outputs": [
    {
     "name": "stdout",
     "output_type": "stream",
     "text": [
      "+-----+--------------------+----------+--------------------+\n",
      "|Label|       rawPrediction|prediction|         probability|\n",
      "+-----+--------------------+----------+--------------------+\n",
      "|    0|[1.54350200272498...|       0.0|[0.95635347857270...|\n",
      "|    0|[1.54350200272498...|       0.0|[0.95635347857270...|\n",
      "|    0|[1.54350200272498...|       0.0|[0.95635347857270...|\n",
      "|    0|[1.54350200272498...|       0.0|[0.95635347857270...|\n",
      "|    0|[1.54350200272498...|       0.0|[0.95635347857270...|\n",
      "|    0|[1.54350200272498...|       0.0|[0.95635347857270...|\n",
      "|    0|[1.54350200272498...|       0.0|[0.95635347857270...|\n",
      "|    1|[-1.5435020027249...|       1.0|[0.04364652142729...|\n",
      "|    0|[1.54350200272498...|       0.0|[0.95635347857270...|\n",
      "|    0|[1.54350200272498...|       0.0|[0.95635347857270...|\n",
      "|    0|[1.54350200272498...|       0.0|[0.95635347857270...|\n",
      "|    0|[1.54350200272498...|       0.0|[0.95635347857270...|\n",
      "|    1|[-1.5435020027249...|       1.0|[0.04364652142729...|\n",
      "|    1|[-1.5435020027249...|       1.0|[0.04364652142729...|\n",
      "|    0|[1.54350200272498...|       0.0|[0.95635347857270...|\n",
      "|    0|[1.54350200272498...|       0.0|[0.95635347857270...|\n",
      "|    1|[-1.5435020027249...|       1.0|[0.04364652142729...|\n",
      "|    0|[1.54350200272498...|       0.0|[0.95635347857270...|\n",
      "|    0|[1.54350200272498...|       0.0|[0.95635347857270...|\n",
      "|    0|[1.54350200272498...|       0.0|[0.95635347857270...|\n",
      "+-----+--------------------+----------+--------------------+\n",
      "only showing top 20 rows\n",
      "\n"
     ]
    }
   ],
   "source": [
    "### Train and test a Gradient Boosted Tree Classifier to make predicitions\n",
    "\n",
    "from pyspark.ml.classification import GBTClassifier\n",
    "gbtClassifier = GBTClassifier(featuresCol = 'features', labelCol = 'Label', maxDepth = 10, stepSize=.10)\n",
    "gbtModel = gbtClassifier.fit(train)\n",
    "predictions = gbtModel.transform(test)\n",
    "predictions.select('Label', 'rawPrediction', 'prediction', 'probability').show(20)"
   ]
  },
  {
   "cell_type": "code",
   "execution_count": null,
   "metadata": {},
   "outputs": [],
   "source": []
  },
  {
   "cell_type": "markdown",
   "metadata": {},
   "source": [
    "## Metrics Section for Evaluating Performance"
   ]
  },
  {
   "cell_type": "code",
   "execution_count": null,
   "metadata": {},
   "outputs": [],
   "source": [
    "## write up Markdown on ROC etc.. by Steve to be inserted"
   ]
  },
  {
   "cell_type": "code",
   "execution_count": 72,
   "metadata": {},
   "outputs": [
    {
     "name": "stdout",
     "output_type": "stream",
     "text": [
      "Area under ROC Curve: 1.0000\n",
      "Area under PR Curve: 1.0000\n"
     ]
    }
   ],
   "source": [
    "#Compute Area under the Curve for Receiver Operating Characteristic and Precision Recall - the bigger the area the better the model.\n",
    "\n",
    "from pyspark.ml.evaluation import BinaryClassificationEvaluator\n",
    "\n",
    "# Let's use the run-of-the-mill evaluator\n",
    "evaluator = BinaryClassificationEvaluator(labelCol='Label')\n",
    "\n",
    "auroc = evaluator.evaluate(predictions, {evaluator.metricName: \"areaUnderROC\"})\n",
    "auprc = evaluator.evaluate(predictions, {evaluator.metricName: \"areaUnderPR\"})\n",
    "print(\"Area under ROC Curve: {:.4f}\".format(auroc))\n",
    "print(\"Area under PR Curve: {:.4f}\".format(auprc))"
   ]
  },
  {
   "cell_type": "code",
   "execution_count": null,
   "metadata": {},
   "outputs": [],
   "source": [
    "# Compute f1 score, precision, recall etc...  section - write up above it - Optional if we have time.  "
   ]
  },
  {
   "cell_type": "markdown",
   "metadata": {},
   "source": [
    "Compute log loss - Steve will write up log loss explanation and hy we chose this"
   ]
  },
  {
   "cell_type": "code",
   "execution_count": 73,
   "metadata": {},
   "outputs": [
    {
     "name": "stdout",
     "output_type": "stream",
     "text": [
      "0.5\n"
     ]
    }
   ],
   "source": [
    "# Define a function clamp to restrict the values of probability to be greater than 0 and less than one\n",
    "def clamp(n):\n",
    "    epsilon = .000000000000001\n",
    "    minn = 0 + epsilon\n",
    "    maxn = 1 - epsilon\n",
    "    return max(min(maxn, n), minn)\n",
    "\n",
    "print(clamp (.5))"
   ]
  },
  {
   "cell_type": "code",
   "execution_count": 74,
   "metadata": {},
   "outputs": [
    {
     "name": "stdout",
     "output_type": "stream",
     "text": [
      "+---------------------+\n",
      "|<lambda>(probability)|\n",
      "+---------------------+\n",
      "|                 0.05|\n",
      "|                 0.15|\n",
      "|              1.0E-15|\n",
      "|                 0.05|\n",
      "|                  0.2|\n",
      "+---------------------+\n",
      "only showing top 5 rows\n",
      "\n"
     ]
    }
   ],
   "source": [
    "from pyspark.sql.functions import udf\n",
    "from pyspark.sql.types import FloatType\n",
    "\n",
    "# Define a UDF to extract the first element of the probability array returned which is probability of one\n",
    "firstelement=udf(lambda v:clamp(float(v[1])))   #,FloatType() after [] was inserted and removed for epsilon\n",
    "predictions.select(firstelement('probability')).show(5)"
   ]
  },
  {
   "cell_type": "code",
   "execution_count": 75,
   "metadata": {},
   "outputs": [
    {
     "name": "stdout",
     "output_type": "stream",
     "text": [
      "+--------+\n",
      "|prob_one|\n",
      "+--------+\n",
      "|    0.05|\n",
      "|    0.15|\n",
      "| 1.0E-15|\n",
      "|    0.05|\n",
      "|     0.2|\n",
      "| 1.0E-15|\n",
      "|    0.05|\n",
      "|    0.75|\n",
      "|    0.05|\n",
      "|    0.05|\n",
      "+--------+\n",
      "only showing top 10 rows\n",
      "\n"
     ]
    }
   ],
   "source": [
    "# Create a new dataframe that contains a probability of one column (true)\n",
    "import pyspark.sql.functions as f\n",
    "\n",
    "predict_df = predictions.withColumn('prob_one', firstelement(predictions.probability))\n",
    "predict_df.select('prob_one').show(10)\n",
    "logloss = 0.0"
   ]
  },
  {
   "cell_type": "code",
   "execution_count": 76,
   "metadata": {},
   "outputs": [],
   "source": [
    "# Compute the log loss for the spark dataframe for each row\n",
    "\n",
    "row_logloss = (\n",
    "    predict_df.withColumn(\n",
    "        'logloss', -f.col('Label')*f.log(f.col('prob_one')) - (1.-f.col('Label'))*f.log(1.-f.col('prob_one'))\n",
    "    )\n",
    ")\n",
    "\n",
    "logloss = row_logloss.agg(f.mean('logloss').alias('ll')).collect()[0]['ll']"
   ]
  },
  {
   "cell_type": "code",
   "execution_count": 77,
   "metadata": {},
   "outputs": [
    {
     "name": "stdout",
     "output_type": "stream",
     "text": [
      "+-----+-------------------+----------+-----------+--------+\n",
      "|Label| round(logloss, 20)|prediction|probability|prob_one|\n",
      "+-----+-------------------+----------+-----------+--------+\n",
      "|    0|0.05129329438755058|       0.0|[0.95,0.05]|    0.05|\n",
      "|    0|0.16251892949777494|       0.0|[0.85,0.15]|    0.15|\n",
      "|    0|          9.992E-16|       0.0|  [1.0,0.0]| 1.0E-15|\n",
      "|    0|0.05129329438755058|       0.0|[0.95,0.05]|    0.05|\n",
      "|    0| 0.2231435513142097|       0.0|  [0.8,0.2]|     0.2|\n",
      "|    0|          9.992E-16|       0.0|  [1.0,0.0]| 1.0E-15|\n",
      "|    0|0.05129329438755058|       0.0|[0.95,0.05]|    0.05|\n",
      "|    1| 0.2876820724517809|       1.0|[0.25,0.75]|    0.75|\n",
      "|    0|0.05129329438755058|       0.0|[0.95,0.05]|    0.05|\n",
      "|    0|0.05129329438755058|       0.0|[0.95,0.05]|    0.05|\n",
      "|    0|0.05129329438755058|       0.0|[0.95,0.05]|    0.05|\n",
      "|    0|0.05129329438755058|       0.0|[0.95,0.05]|    0.05|\n",
      "|    1|0.35667494393873245|       1.0|  [0.3,0.7]|     0.7|\n",
      "|    1|0.16251892949777494|       1.0|[0.15,0.85]|    0.85|\n",
      "|    0|0.05129329438755058|       0.0|[0.95,0.05]|    0.05|\n",
      "+-----+-------------------+----------+-----------+--------+\n",
      "only showing top 15 rows\n",
      "\n"
     ]
    }
   ],
   "source": [
    "# Examine the log loss\n",
    "row_logloss.select('Label', f.round('logloss', 20), 'prediction', 'probability', 'prob_one').show(15)"
   ]
  },
  {
   "cell_type": "code",
   "execution_count": 78,
   "metadata": {},
   "outputs": [
    {
     "name": "stdout",
     "output_type": "stream",
     "text": [
      "log loss =  0.1641667981794039\n"
     ]
    }
   ],
   "source": [
    "# Model log loss total\n",
    "print(\"log loss = \", logloss)"
   ]
  },
  {
   "cell_type": "code",
   "execution_count": null,
   "metadata": {},
   "outputs": [],
   "source": []
  },
  {
   "cell_type": "code",
   "execution_count": null,
   "metadata": {},
   "outputs": [],
   "source": []
  },
  {
   "cell_type": "code",
   "execution_count": null,
   "metadata": {},
   "outputs": [],
   "source": [
    "####  APPENDIX - Misc Code I tried to be removed later"
   ]
  },
  {
   "cell_type": "code",
   "execution_count": 125,
   "metadata": {},
   "outputs": [],
   "source": [
    "#import handyspark"
   ]
  },
  {
   "cell_type": "code",
   "execution_count": 119,
   "metadata": {},
   "outputs": [
    {
     "name": "stdout",
     "output_type": "stream",
     "text": [
      "+-----------+\n",
      "|probability|\n",
      "+-----------+\n",
      "|  [1.0,0.0]|\n",
      "|  [1.0,0.0]|\n",
      "|  [1.0,0.0]|\n",
      "|  [1.0,0.0]|\n",
      "|  [1.0,0.0]|\n",
      "+-----------+\n",
      "only showing top 5 rows\n",
      "\n"
     ]
    }
   ],
   "source": [
    "predictions.select('probability').show(5)"
   ]
  },
  {
   "cell_type": "code",
   "execution_count": null,
   "metadata": {},
   "outputs": [],
   "source": [
    "prob_zero = predictions.select(firstelement('probability'))\n",
    "prob_zero.show(20)\n",
    "prob_zero.printSchema()\n",
    "#test.describe()"
   ]
  },
  {
   "cell_type": "code",
   "execution_count": null,
   "metadata": {},
   "outputs": [],
   "source": [
    "prob_zero.select(prob_zero.columns[:1]).show(5)"
   ]
  },
  {
   "cell_type": "code",
   "execution_count": null,
   "metadata": {},
   "outputs": [],
   "source": [
    "#dataframename.describe().show() - get ststatistics, min, max, ..."
   ]
  },
  {
   "cell_type": "code",
   "execution_count": null,
   "metadata": {},
   "outputs": [],
   "source": [
    "prob_zero.select(prob_zero.columns[:1]).show(5)"
   ]
  }
 ],
 "metadata": {
  "kernelspec": {
   "display_name": "Python 3",
   "language": "python",
   "name": "python3"
  },
  "language_info": {
   "codemirror_mode": {
    "name": "ipython",
    "version": 3
   },
   "file_extension": ".py",
   "mimetype": "text/x-python",
   "name": "python",
   "nbconvert_exporter": "python",
   "pygments_lexer": "ipython3",
   "version": "3.6.6"
  }
 },
 "nbformat": 4,
 "nbformat_minor": 2
}
